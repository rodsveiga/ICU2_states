{
 "cells": [
  {
   "cell_type": "markdown",
   "metadata": {},
   "source": [
    "# Age-structured ICU demand sampler"
   ]
  },
  {
   "cell_type": "code",
   "execution_count": 10,
   "metadata": {},
   "outputs": [],
   "source": [
    "import numpy as np\n",
    "import pandas as pd\n",
    "import matplotlib.pyplot as plt\n",
    "from sklearn import linear_model\n",
    "from scipy.optimize import minimize \n",
    "from datetime import timedelta\n",
    "import datetime as dt\n",
    "from IPython.display import Image\n",
    "import requests"
   ]
  },
  {
   "cell_type": "code",
   "execution_count": 11,
   "metadata": {},
   "outputs": [],
   "source": [
    "name = 'Blumenau'\n",
    "state_or_city = 'city'\n",
    "pop0 = \t357199\n",
    "p_SUS = 0.7948\n",
    "\n",
    "state = 'SC'\n",
    "name_file = 'Blumenau'"
   ]
  },
  {
   "cell_type": "markdown",
   "metadata": {},
   "source": [
    "## Data\n",
    "\n",
    "### Brazil\n",
    "\n",
    "#### COVID-19 DATA\n",
    "\n",
    "Data source: [Brasil.IO](https://brasil.io/dataset/covid19/caso). Observe the database changes every day.\n",
    "\n"
   ]
  },
  {
   "cell_type": "code",
   "execution_count": 12,
   "metadata": {},
   "outputs": [],
   "source": [
    "#url = \"https://brasil.io/dataset/covid19/caso/?format=csv\"\n",
    "#filename = 'data/brazil_' + url.split(\"/\")[-3] + '.csv'\n",
    "#with open(filename, \"wb\") as f:\n",
    "#    r = requests.get(url)\n",
    "#    f.write(r.content)"
   ]
  },
  {
   "cell_type": "markdown",
   "metadata": {},
   "source": [
    "To keep the same analysis, we keep the data basis from June 11."
   ]
  },
  {
   "cell_type": "code",
   "execution_count": 13,
   "metadata": {},
   "outputs": [
    {
     "output_type": "execute_result",
     "data": {
      "text/plain": "         date state          city place_type  confirmed  deaths  is_last  \\\n0  2020-06-10    AC    Acrelândia       city        167       2     True   \n1  2020-06-10    AC  Assis Brasil       city         79       4     True   \n2  2020-06-10    AC     Brasiléia       city        176       5     True   \n3  2020-06-10    AC        Bujari       city         90       1     True   \n4  2020-06-10    AC      Capixaba       city         73       2     True   \n\n   estimated_population_2019  city_ibge_code  confirmed_per_100k_inhabitants  \\\n0                    15256.0       1200013.0                      1094.65128   \n1                     7417.0       1200054.0                      1065.12067   \n2                    26278.0       1200104.0                       669.76178   \n3                    10266.0       1200138.0                       876.68030   \n4                    11733.0       1200179.0                       622.17677   \n\n   death_rate  \n0      0.0120  \n1      0.0506  \n2      0.0284  \n3      0.0111  \n4      0.0274  ",
      "text/html": "<div>\n<style scoped>\n    .dataframe tbody tr th:only-of-type {\n        vertical-align: middle;\n    }\n\n    .dataframe tbody tr th {\n        vertical-align: top;\n    }\n\n    .dataframe thead th {\n        text-align: right;\n    }\n</style>\n<table border=\"1\" class=\"dataframe\">\n  <thead>\n    <tr style=\"text-align: right;\">\n      <th></th>\n      <th>date</th>\n      <th>state</th>\n      <th>city</th>\n      <th>place_type</th>\n      <th>confirmed</th>\n      <th>deaths</th>\n      <th>is_last</th>\n      <th>estimated_population_2019</th>\n      <th>city_ibge_code</th>\n      <th>confirmed_per_100k_inhabitants</th>\n      <th>death_rate</th>\n    </tr>\n  </thead>\n  <tbody>\n    <tr>\n      <th>0</th>\n      <td>2020-06-10</td>\n      <td>AC</td>\n      <td>Acrelândia</td>\n      <td>city</td>\n      <td>167</td>\n      <td>2</td>\n      <td>True</td>\n      <td>15256.0</td>\n      <td>1200013.0</td>\n      <td>1094.65128</td>\n      <td>0.0120</td>\n    </tr>\n    <tr>\n      <th>1</th>\n      <td>2020-06-10</td>\n      <td>AC</td>\n      <td>Assis Brasil</td>\n      <td>city</td>\n      <td>79</td>\n      <td>4</td>\n      <td>True</td>\n      <td>7417.0</td>\n      <td>1200054.0</td>\n      <td>1065.12067</td>\n      <td>0.0506</td>\n    </tr>\n    <tr>\n      <th>2</th>\n      <td>2020-06-10</td>\n      <td>AC</td>\n      <td>Brasiléia</td>\n      <td>city</td>\n      <td>176</td>\n      <td>5</td>\n      <td>True</td>\n      <td>26278.0</td>\n      <td>1200104.0</td>\n      <td>669.76178</td>\n      <td>0.0284</td>\n    </tr>\n    <tr>\n      <th>3</th>\n      <td>2020-06-10</td>\n      <td>AC</td>\n      <td>Bujari</td>\n      <td>city</td>\n      <td>90</td>\n      <td>1</td>\n      <td>True</td>\n      <td>10266.0</td>\n      <td>1200138.0</td>\n      <td>876.68030</td>\n      <td>0.0111</td>\n    </tr>\n    <tr>\n      <th>4</th>\n      <td>2020-06-10</td>\n      <td>AC</td>\n      <td>Capixaba</td>\n      <td>city</td>\n      <td>73</td>\n      <td>2</td>\n      <td>True</td>\n      <td>11733.0</td>\n      <td>1200179.0</td>\n      <td>622.17677</td>\n      <td>0.0274</td>\n    </tr>\n  </tbody>\n</table>\n</div>"
     },
     "metadata": {},
     "execution_count": 13
    }
   ],
   "source": [
    "filename = 'data/brazil_covid19_06_11.csv'\n",
    "\n",
    "df = pd.read_csv(filename)\n",
    "df.head()"
   ]
  },
  {
   "cell_type": "markdown",
   "metadata": {},
   "source": [
    "Select a particular state or city:"
   ]
  },
  {
   "cell_type": "code",
   "execution_count": 14,
   "metadata": {},
   "outputs": [],
   "source": [
    "df = df[ df['place_type'] == state_or_city]\n",
    "df = df[ df[state_or_city] == name ]\n",
    "\n",
    "df_I = df.groupby('date')[['confirmed']].sum()\n",
    "df_I.index = pd.to_datetime(df_I.index)\n",
    "today = df_I.index[-1] + timedelta(days=1)"
   ]
  },
  {
   "cell_type": "markdown",
   "metadata": {},
   "source": [
    "Last day of data used to run this notebook:"
   ]
  },
  {
   "cell_type": "code",
   "execution_count": 15,
   "metadata": {},
   "outputs": [
    {
     "output_type": "execute_result",
     "data": {
      "text/plain": "'06-10'"
     },
     "metadata": {},
     "execution_count": 15
    }
   ],
   "source": [
    "fit_until = df_I.index[-1].strftime('%m-%d')\n",
    "fit_until"
   ]
  },
  {
   "cell_type": "markdown",
   "metadata": {},
   "source": [
    "#### Population data combined with ICU adimission probability by age\n",
    "\n",
    "Data source: [IBGE](https://www.ibge.gov.br/apps/populacao/projecao/)."
   ]
  },
  {
   "cell_type": "code",
   "execution_count": 16,
   "metadata": {},
   "outputs": [],
   "source": [
    "# State of São Paulo\n",
    "file = 'data/pop_age_str_IBGE_2020_' + state + '.csv'\n",
    "\n",
    "# Other states\n",
    "# file = 'data/pop_age_str_IBGE_2020_' + name + '.csv'\n",
    "\n",
    "df_age = pd.read_csv(file)\n",
    "df_age.loc[0, 'Age'] = '00-04'\n",
    "df_age.loc[1, 'Age'] = '05-09'\n",
    "df_age['AGE_prob'] = df_age['Total'] / df_age['Total'].sum()\n",
    "\n",
    "# Selected state\n",
    "#pop0 = df_age['Total'].sum().item()"
   ]
  },
  {
   "cell_type": "code",
   "execution_count": 17,
   "metadata": {},
   "outputs": [],
   "source": [
    "df_age_ICU = pd.DataFrame(columns=['Age', 'ICU_prob'])\n",
    "df_age_ICU['Age'] = ['0-19', '20-44', '45-54', '55-64', '65-74', '75-84', '85+']\n",
    "df_age_ICU['ICU_prob'] = [0, 4.2, 10.4, 11.2, 18.8, 31, 29]"
   ]
  },
  {
   "cell_type": "code",
   "execution_count": 18,
   "metadata": {},
   "outputs": [],
   "source": [
    "ICU_prob = [0., 0., 0., 0., 0.042, \n",
    "            0.042, 0.042, 0.042, 0.042, 0.104,\n",
    "            0.104, 0.112, 0.112, 0.188, 0.188,\n",
    "            0.31, 0.31, 0.29, 0.29]\n",
    "\n",
    "df_age['ICU_prob'] = ICU_prob"
   ]
  },
  {
   "cell_type": "markdown",
   "metadata": {},
   "source": [
    "## Sampling from age-structed population probability and ICU admission probability\n",
    "\n",
    "Function to be used to performe both sampling over time."
   ]
  },
  {
   "cell_type": "code",
   "execution_count": 19,
   "metadata": {},
   "outputs": [],
   "source": [
    "def ICU_samp(df, n, n_samp_AGE_max= 1000, n_samp_AGE_min= 100, n_samp_ICU_max= 1000, n_samp_ICU_min= 100):\n",
    "\n",
    "    df_samp = pd.DataFrame(columns= df['Age'])\n",
    "\n",
    "    for j in range(n_samp_AGE_max):\n",
    "    \n",
    "        samp = np.random.choice(df['Age'], \n",
    "                                n, \n",
    "                                p= list(df['AGE_prob']) )\n",
    "\n",
    "        unique, counts = np.unique(samp, return_counts= True)\n",
    "    \n",
    "        for l in range(len(unique)):\n",
    "            df_samp.loc[j, unique[l]] = counts[l]\n",
    "\n",
    "\n",
    "    df_samp = df_samp.fillna(0)\n",
    "    df['n_mean'] = list(df_samp.mean(axis= 0))\n",
    "    df['n_std']  = list(df_samp.std(axis =0))\n",
    "\n",
    "    df = df.set_index('Age')\n",
    "\n",
    "    for age in df.index:\n",
    "    \n",
    "        aux_ = []\n",
    "\n",
    "        for j in range(n_samp_ICU_max):      \n",
    "    \n",
    "            samp = np.random.uniform(size= int(df.loc[age]['n_mean']))  \n",
    "            samp_ICU = samp < df.loc[age]['ICU_prob']\n",
    "            aux_.append(samp_ICU.sum())\n",
    "\n",
    "\n",
    "        df.loc[age, 'n_mean_ICU']  = np.mean(aux_)\n",
    "        df.loc[age, 'n_std_ICU']   = np.std(aux_)\n",
    "        \n",
    "    df['n_std_ICU'] = np.sqrt( df['n_std']**2 +  df['n_std_ICU']**2)\n",
    "    \n",
    "    return df"
   ]
  },
  {
   "cell_type": "markdown",
   "metadata": {},
   "source": [
    "Running the function over both scenarios:"
   ]
  },
  {
   "cell_type": "code",
   "execution_count": 20,
   "metadata": {},
   "outputs": [],
   "source": [
    "df1_ = []\n",
    "\n",
    "for j in range(len(df_I)):\n",
    "    \n",
    "    df1 = ICU_samp(df= df_age.reset_index(), \n",
    "                   n= df_I.iloc[j][0], \n",
    "                   n_samp_AGE_max= 100, n_samp_AGE_min= 100,\n",
    "                   n_samp_ICU_max= 100, n_samp_ICU_min= 100)\n",
    "\n",
    "    \n",
    "    df1_.append(df1)"
   ]
  },
  {
   "cell_type": "markdown",
   "metadata": {},
   "source": [
    "### Taking into account removal from ICU after `T_ICU` days"
   ]
  },
  {
   "cell_type": "code",
   "execution_count": 21,
   "metadata": {},
   "outputs": [],
   "source": [
    "def correction(x, df_, T_ICU= 14):\n",
    "\n",
    "    df_[x]['n_mean_ICU_cor'] = 0.\n",
    "    df_[x]['n_std_ICU_cor'] = 0.\n",
    "    \n",
    "    if x <= T_ICU:\n",
    "                   \n",
    "        df_[x]['n_mean_ICU_cor'] = df_[x]['n_mean_ICU']\n",
    "        df_[x]['n_std_ICU_cor']   = df_[x]['n_std_ICU']\n",
    "             \n",
    "    else:\n",
    "        \n",
    "        delta = df_[x]['n_mean_ICU'] - df_[x - T_ICU]['n_mean_ICU']\n",
    "        \n",
    "        df_[x]['n_mean_ICU_cor'] = np.heaviside(delta, 0) * delta\n",
    "        df_[x]['n_std_ICU_cor']  = np.sqrt(df_[x]['n_std_ICU']**2 + df_[x - T_ICU]['n_std_ICU']**2)"
   ]
  },
  {
   "cell_type": "code",
   "execution_count": 22,
   "metadata": {},
   "outputs": [],
   "source": [
    "T_ICU = 14\n",
    "\n",
    "for x in range(len(df1_)):\n",
    "    \n",
    "    correction(x, df_= df1_, T_ICU= T_ICU)"
   ]
  },
  {
   "cell_type": "markdown",
   "metadata": {},
   "source": [
    "## Collecting daily averages\n",
    "\n",
    "Given a list `df_` of dataframes, the function `daily_av` collect averages of collumns values over a `timeseries_data` period. The return is a daaframe called `df_ICU`."
   ]
  },
  {
   "cell_type": "code",
   "execution_count": 23,
   "metadata": {},
   "outputs": [],
   "source": [
    "def daily_av(df_, timeseries_data, SUS= True, p_SUS= 0.6278, n_samp_max= 1000, n_samp_min= 100):\n",
    "\n",
    "    n_mean_    = []\n",
    "    n_std_     = []\n",
    "    n_mean_ICU_ = []\n",
    "    n_std_ICU_  = []\n",
    "\n",
    "    for j in range(len(df_)):\n",
    "\n",
    "        n_mean_.append(df_[j]['n_mean'].sum())\n",
    "        n_std_.append( np.sqrt((df_[j]['n_std']**2).sum()) )\n",
    "        \n",
    "        n_mean_ICU_.append(df_[j]['n_mean_ICU_cor'].sum())\n",
    "        n_std_ICU_.append( np.sqrt((df_[j]['n_std_ICU_cor']**2).sum()) )\n",
    "\n",
    "    names = ['date', 'n_mean', 'n_std', 'n_mean_ICU', 'n_std_ICU']\n",
    "    df_ICU = pd.DataFrame(columns= names)\n",
    "    \n",
    "    #df_ICU['date'] = timeseries_data\n",
    "    df_ICU['date'] = df_I.index\n",
    "\n",
    "    \n",
    "    df_ICU['n_mean']     = n_mean_ \n",
    "    df_ICU['n_std']      = n_std_\n",
    "    df_ICU['n_mean_ICU'] = n_mean_ICU_\n",
    "    df_ICU['n_std_ICU']  = n_std_ICU_\n",
    "\n",
    "    df_ICU = df_ICU.set_index(['date'])\n",
    "\n",
    "\n",
    "    if SUS:\n",
    "\n",
    "        for date in df_ICU.index:\n",
    "            \n",
    "            aux_ = []\n",
    "\n",
    "            for j in range(n_samp_max):\n",
    "\n",
    "                samp = np.random.uniform(size= int(df_ICU.loc[date]['n_mean_ICU']))  \n",
    "                SUS_samp = samp <= p_SUS\n",
    "                aux_.append(SUS_samp.sum())\n",
    "\n",
    "\n",
    "\n",
    "            df_ICU.loc[date, 'n_mean_ICU_SUS'] = np.mean(aux_)\n",
    "            df_ICU.loc[date, 'n_std_ICU_SUS']  = np.std(aux_)\n",
    "\n",
    "        df_ICU['n_std_ICU_SUS'] = np.sqrt( df_ICU['n_std_ICU']**2 +  df_ICU['n_std_ICU_SUS']**2)\n",
    "\n",
    "    return df_ICU"
   ]
  },
  {
   "cell_type": "code",
   "execution_count": 24,
   "metadata": {},
   "outputs": [],
   "source": [
    "df1_ICU = daily_av(df1_, timeseries_data= df_I.index, SUS= True, p_SUS= p_SUS, n_samp_max= 100, n_samp_min= 100)"
   ]
  },
  {
   "cell_type": "code",
   "execution_count": 25,
   "metadata": {},
   "outputs": [
    {
     "output_type": "execute_result",
     "data": {
      "text/plain": "            n_mean      n_std  n_mean_ICU  n_std_ICU  n_mean_ICU_SUS  \\\ndate                                                                   \n2020-03-22     6.0   2.400168        0.00   2.400168            0.00   \n2020-03-23     7.0   2.535326        0.00   2.535326            0.00   \n2020-03-24     7.0   2.553033        0.00   2.553033            0.00   \n2020-03-25     9.0   2.923295        0.00   2.923295            0.00   \n2020-03-26    12.0   3.368601        0.09   3.381327            0.00   \n...            ...        ...         ...        ...             ...   \n2020-06-06   699.0  25.360066       12.35  35.015436            9.67   \n2020-06-07   699.0  25.260653       14.56  34.408960           11.02   \n2020-06-08   698.0  26.264851       12.49  34.757783            9.60   \n2020-06-09   735.0  26.157924       14.01  34.898556           11.22   \n2020-06-10   769.0  26.083831       18.59  34.790973           14.33   \n\n            n_std_ICU_SUS  \ndate                       \n2020-03-22       2.400168  \n2020-03-23       2.535326  \n2020-03-24       2.553033  \n2020-03-25       2.923295  \n2020-03-26       3.381327  \n...                   ...  \n2020-06-06      35.047994  \n2020-06-07      34.443811  \n2020-06-08      34.785967  \n2020-06-09      34.931086  \n2020-06-10      34.828622  \n\n[81 rows x 6 columns]",
      "text/html": "<div>\n<style scoped>\n    .dataframe tbody tr th:only-of-type {\n        vertical-align: middle;\n    }\n\n    .dataframe tbody tr th {\n        vertical-align: top;\n    }\n\n    .dataframe thead th {\n        text-align: right;\n    }\n</style>\n<table border=\"1\" class=\"dataframe\">\n  <thead>\n    <tr style=\"text-align: right;\">\n      <th></th>\n      <th>n_mean</th>\n      <th>n_std</th>\n      <th>n_mean_ICU</th>\n      <th>n_std_ICU</th>\n      <th>n_mean_ICU_SUS</th>\n      <th>n_std_ICU_SUS</th>\n    </tr>\n    <tr>\n      <th>date</th>\n      <th></th>\n      <th></th>\n      <th></th>\n      <th></th>\n      <th></th>\n      <th></th>\n    </tr>\n  </thead>\n  <tbody>\n    <tr>\n      <th>2020-03-22</th>\n      <td>6.0</td>\n      <td>2.400168</td>\n      <td>0.00</td>\n      <td>2.400168</td>\n      <td>0.00</td>\n      <td>2.400168</td>\n    </tr>\n    <tr>\n      <th>2020-03-23</th>\n      <td>7.0</td>\n      <td>2.535326</td>\n      <td>0.00</td>\n      <td>2.535326</td>\n      <td>0.00</td>\n      <td>2.535326</td>\n    </tr>\n    <tr>\n      <th>2020-03-24</th>\n      <td>7.0</td>\n      <td>2.553033</td>\n      <td>0.00</td>\n      <td>2.553033</td>\n      <td>0.00</td>\n      <td>2.553033</td>\n    </tr>\n    <tr>\n      <th>2020-03-25</th>\n      <td>9.0</td>\n      <td>2.923295</td>\n      <td>0.00</td>\n      <td>2.923295</td>\n      <td>0.00</td>\n      <td>2.923295</td>\n    </tr>\n    <tr>\n      <th>2020-03-26</th>\n      <td>12.0</td>\n      <td>3.368601</td>\n      <td>0.09</td>\n      <td>3.381327</td>\n      <td>0.00</td>\n      <td>3.381327</td>\n    </tr>\n    <tr>\n      <th>...</th>\n      <td>...</td>\n      <td>...</td>\n      <td>...</td>\n      <td>...</td>\n      <td>...</td>\n      <td>...</td>\n    </tr>\n    <tr>\n      <th>2020-06-06</th>\n      <td>699.0</td>\n      <td>25.360066</td>\n      <td>12.35</td>\n      <td>35.015436</td>\n      <td>9.67</td>\n      <td>35.047994</td>\n    </tr>\n    <tr>\n      <th>2020-06-07</th>\n      <td>699.0</td>\n      <td>25.260653</td>\n      <td>14.56</td>\n      <td>34.408960</td>\n      <td>11.02</td>\n      <td>34.443811</td>\n    </tr>\n    <tr>\n      <th>2020-06-08</th>\n      <td>698.0</td>\n      <td>26.264851</td>\n      <td>12.49</td>\n      <td>34.757783</td>\n      <td>9.60</td>\n      <td>34.785967</td>\n    </tr>\n    <tr>\n      <th>2020-06-09</th>\n      <td>735.0</td>\n      <td>26.157924</td>\n      <td>14.01</td>\n      <td>34.898556</td>\n      <td>11.22</td>\n      <td>34.931086</td>\n    </tr>\n    <tr>\n      <th>2020-06-10</th>\n      <td>769.0</td>\n      <td>26.083831</td>\n      <td>18.59</td>\n      <td>34.790973</td>\n      <td>14.33</td>\n      <td>34.828622</td>\n    </tr>\n  </tbody>\n</table>\n<p>81 rows × 6 columns</p>\n</div>"
     },
     "metadata": {},
     "execution_count": 25
    }
   ],
   "source": [
    "df1_ICU"
   ]
  },
  {
   "cell_type": "markdown",
   "metadata": {},
   "source": [
    "## Private ICU beds"
   ]
  },
  {
   "cell_type": "code",
   "execution_count": 26,
   "metadata": {},
   "outputs": [],
   "source": [
    "df1_ICU['n_mean_ICU_PRIVATE'] = df1_ICU['n_mean_ICU'] - df1_ICU['n_mean_ICU_SUS'] \n",
    "df1_ICU['n_std_ICU_PRIVATE'] = np.sqrt(  df1_ICU['n_std_ICU']**2 + df1_ICU['n_std_ICU_SUS']  )"
   ]
  },
  {
   "cell_type": "markdown",
   "metadata": {},
   "source": [
    "## Saving the results. "
   ]
  },
  {
   "cell_type": "code",
   "execution_count": 27,
   "metadata": {},
   "outputs": [],
   "source": [
    "file1 = 'results/dfs/df_ICU_' + state_or_city + '_' + name_file + '_fit_until_' + fit_until + '.pkl'\n",
    "df1_ICU.to_pickle(file1) "
   ]
  },
  {
   "cell_type": "code",
   "execution_count": null,
   "metadata": {},
   "outputs": [],
   "source": []
  }
 ],
 "metadata": {
  "kernelspec": {
   "display_name": "Python 3",
   "language": "python",
   "name": "python3"
  },
  "language_info": {
   "codemirror_mode": {
    "name": "ipython",
    "version": 3
   },
   "file_extension": ".py",
   "mimetype": "text/x-python",
   "name": "python",
   "nbconvert_exporter": "python",
   "pygments_lexer": "ipython3",
   "version": "3.7.3-final"
  }
 },
 "nbformat": 4,
 "nbformat_minor": 2
}