{
 "cells": [
  {
   "cell_type": "markdown",
   "metadata": {},
   "source": [
    "# Age-structured ICU demand sampler"
   ]
  },
  {
   "cell_type": "code",
   "execution_count": 1,
   "metadata": {},
   "outputs": [],
   "source": [
    "import numpy as np\n",
    "import pandas as pd\n",
    "import matplotlib.pyplot as plt\n",
    "from sklearn import linear_model\n",
    "from scipy.optimize import minimize \n",
    "from datetime import timedelta\n",
    "import datetime as dt\n",
    "from IPython.display import Image\n",
    "import requests"
   ]
  },
  {
   "cell_type": "code",
   "execution_count": 2,
   "metadata": {},
   "outputs": [],
   "source": [
    "name = 'BA'\n",
    "p_SUS = 0.8932"
   ]
  },
  {
   "cell_type": "markdown",
   "metadata": {},
   "source": [
    "## Data\n",
    "\n",
    "### Brazil\n",
    "\n",
    "#### COVID-19 DATA\n",
    "\n",
    "Data source: [Brasil.IO](https://brasil.io/dataset/covid19/caso). Observe the database changes every day.\n",
    "\n"
   ]
  },
  {
   "cell_type": "code",
   "execution_count": 3,
   "metadata": {},
   "outputs": [],
   "source": [
    "#url = \"https://brasil.io/dataset/covid19/caso/?format=csv\"\n",
    "#filename = 'data/brazil_' + url.split(\"/\")[-3] + '.csv'\n",
    "#with open(filename, \"wb\") as f:\n",
    "#    r = requests.get(url)\n",
    "#    f.write(r.content)"
   ]
  },
  {
   "cell_type": "markdown",
   "metadata": {},
   "source": [
    "To keep the same analysis, we keep the data basis from June 11."
   ]
  },
  {
   "cell_type": "code",
   "execution_count": 4,
   "metadata": {},
   "outputs": [
    {
     "output_type": "execute_result",
     "data": {
      "text/plain": "         date state          city place_type  confirmed  deaths  is_last  \\\n0  2020-06-10    AC    Acrelândia       city        167       2     True   \n1  2020-06-10    AC  Assis Brasil       city         79       4     True   \n2  2020-06-10    AC     Brasiléia       city        176       5     True   \n3  2020-06-10    AC        Bujari       city         90       1     True   \n4  2020-06-10    AC      Capixaba       city         73       2     True   \n\n   estimated_population_2019  city_ibge_code  confirmed_per_100k_inhabitants  \\\n0                    15256.0       1200013.0                      1094.65128   \n1                     7417.0       1200054.0                      1065.12067   \n2                    26278.0       1200104.0                       669.76178   \n3                    10266.0       1200138.0                       876.68030   \n4                    11733.0       1200179.0                       622.17677   \n\n   death_rate  \n0      0.0120  \n1      0.0506  \n2      0.0284  \n3      0.0111  \n4      0.0274  ",
      "text/html": "<div>\n<style scoped>\n    .dataframe tbody tr th:only-of-type {\n        vertical-align: middle;\n    }\n\n    .dataframe tbody tr th {\n        vertical-align: top;\n    }\n\n    .dataframe thead th {\n        text-align: right;\n    }\n</style>\n<table border=\"1\" class=\"dataframe\">\n  <thead>\n    <tr style=\"text-align: right;\">\n      <th></th>\n      <th>date</th>\n      <th>state</th>\n      <th>city</th>\n      <th>place_type</th>\n      <th>confirmed</th>\n      <th>deaths</th>\n      <th>is_last</th>\n      <th>estimated_population_2019</th>\n      <th>city_ibge_code</th>\n      <th>confirmed_per_100k_inhabitants</th>\n      <th>death_rate</th>\n    </tr>\n  </thead>\n  <tbody>\n    <tr>\n      <th>0</th>\n      <td>2020-06-10</td>\n      <td>AC</td>\n      <td>Acrelândia</td>\n      <td>city</td>\n      <td>167</td>\n      <td>2</td>\n      <td>True</td>\n      <td>15256.0</td>\n      <td>1200013.0</td>\n      <td>1094.65128</td>\n      <td>0.0120</td>\n    </tr>\n    <tr>\n      <th>1</th>\n      <td>2020-06-10</td>\n      <td>AC</td>\n      <td>Assis Brasil</td>\n      <td>city</td>\n      <td>79</td>\n      <td>4</td>\n      <td>True</td>\n      <td>7417.0</td>\n      <td>1200054.0</td>\n      <td>1065.12067</td>\n      <td>0.0506</td>\n    </tr>\n    <tr>\n      <th>2</th>\n      <td>2020-06-10</td>\n      <td>AC</td>\n      <td>Brasiléia</td>\n      <td>city</td>\n      <td>176</td>\n      <td>5</td>\n      <td>True</td>\n      <td>26278.0</td>\n      <td>1200104.0</td>\n      <td>669.76178</td>\n      <td>0.0284</td>\n    </tr>\n    <tr>\n      <th>3</th>\n      <td>2020-06-10</td>\n      <td>AC</td>\n      <td>Bujari</td>\n      <td>city</td>\n      <td>90</td>\n      <td>1</td>\n      <td>True</td>\n      <td>10266.0</td>\n      <td>1200138.0</td>\n      <td>876.68030</td>\n      <td>0.0111</td>\n    </tr>\n    <tr>\n      <th>4</th>\n      <td>2020-06-10</td>\n      <td>AC</td>\n      <td>Capixaba</td>\n      <td>city</td>\n      <td>73</td>\n      <td>2</td>\n      <td>True</td>\n      <td>11733.0</td>\n      <td>1200179.0</td>\n      <td>622.17677</td>\n      <td>0.0274</td>\n    </tr>\n  </tbody>\n</table>\n</div>"
     },
     "metadata": {},
     "execution_count": 4
    }
   ],
   "source": [
    "filename = 'data/brazil_covid19_06_11.csv'\n",
    "\n",
    "df = pd.read_csv(filename)\n",
    "df.head()"
   ]
  },
  {
   "cell_type": "code",
   "execution_count": 5,
   "metadata": {},
   "outputs": [],
   "source": [
    "state_or_city = 'state'\n",
    "#state_or_city = 'city'\n",
    "\n",
    "#name = 'RJ'\n",
    "#name = 'São Paulo'\n",
    "\n",
    "df = df[ df['place_type'] == state_or_city]\n",
    "df = df[ df[state_or_city] == name ]"
   ]
  },
  {
   "cell_type": "code",
   "execution_count": 6,
   "metadata": {},
   "outputs": [
    {
     "output_type": "execute_result",
     "data": {
      "text/plain": "              date  confirmed  confirmed_per_100k_inhabitants\n579     2020-06-10      32685                       219.75969\n4886    2020-06-09      30481                       204.94096\n9521    2020-06-08      28715                       193.06714\n14128   2020-06-07      28250                       189.94069\n18716   2020-06-06      27396                       184.19876\n...            ...        ...                             ...\n187574  2020-03-11          3                         0.02017\n187589  2020-03-10          2                         0.01345\n187603  2020-03-09          2                         0.01345\n187626  2020-03-07          2                         0.01345\n187634  2020-03-06          1                         0.00672\n\n[95 rows x 3 columns]",
      "text/html": "<div>\n<style scoped>\n    .dataframe tbody tr th:only-of-type {\n        vertical-align: middle;\n    }\n\n    .dataframe tbody tr th {\n        vertical-align: top;\n    }\n\n    .dataframe thead th {\n        text-align: right;\n    }\n</style>\n<table border=\"1\" class=\"dataframe\">\n  <thead>\n    <tr style=\"text-align: right;\">\n      <th></th>\n      <th>date</th>\n      <th>confirmed</th>\n      <th>confirmed_per_100k_inhabitants</th>\n    </tr>\n  </thead>\n  <tbody>\n    <tr>\n      <th>579</th>\n      <td>2020-06-10</td>\n      <td>32685</td>\n      <td>219.75969</td>\n    </tr>\n    <tr>\n      <th>4886</th>\n      <td>2020-06-09</td>\n      <td>30481</td>\n      <td>204.94096</td>\n    </tr>\n    <tr>\n      <th>9521</th>\n      <td>2020-06-08</td>\n      <td>28715</td>\n      <td>193.06714</td>\n    </tr>\n    <tr>\n      <th>14128</th>\n      <td>2020-06-07</td>\n      <td>28250</td>\n      <td>189.94069</td>\n    </tr>\n    <tr>\n      <th>18716</th>\n      <td>2020-06-06</td>\n      <td>27396</td>\n      <td>184.19876</td>\n    </tr>\n    <tr>\n      <th>...</th>\n      <td>...</td>\n      <td>...</td>\n      <td>...</td>\n    </tr>\n    <tr>\n      <th>187574</th>\n      <td>2020-03-11</td>\n      <td>3</td>\n      <td>0.02017</td>\n    </tr>\n    <tr>\n      <th>187589</th>\n      <td>2020-03-10</td>\n      <td>2</td>\n      <td>0.01345</td>\n    </tr>\n    <tr>\n      <th>187603</th>\n      <td>2020-03-09</td>\n      <td>2</td>\n      <td>0.01345</td>\n    </tr>\n    <tr>\n      <th>187626</th>\n      <td>2020-03-07</td>\n      <td>2</td>\n      <td>0.01345</td>\n    </tr>\n    <tr>\n      <th>187634</th>\n      <td>2020-03-06</td>\n      <td>1</td>\n      <td>0.00672</td>\n    </tr>\n  </tbody>\n</table>\n<p>95 rows × 3 columns</p>\n</div>"
     },
     "metadata": {},
     "execution_count": 6
    }
   ],
   "source": [
    "df[ ['date', 'confirmed', 'confirmed_per_100k_inhabitants'] ]"
   ]
  },
  {
   "cell_type": "code",
   "execution_count": 7,
   "metadata": {},
   "outputs": [
    {
     "output_type": "execute_result",
     "data": {
      "text/plain": "            confirmed  confirmed_per_100k_inhabitants\ndate                                                 \n2020-03-06          1                         0.00672\n2020-03-07          2                         0.01345\n2020-03-09          2                         0.01345\n2020-03-10          2                         0.01345\n2020-03-11          3                         0.02017\n...               ...                             ...\n2020-06-06      27396                       184.19876\n2020-06-07      28250                       189.94069\n2020-06-08      28715                       193.06714\n2020-06-09      30481                       204.94096\n2020-06-10      32685                       219.75969\n\n[95 rows x 2 columns]",
      "text/html": "<div>\n<style scoped>\n    .dataframe tbody tr th:only-of-type {\n        vertical-align: middle;\n    }\n\n    .dataframe tbody tr th {\n        vertical-align: top;\n    }\n\n    .dataframe thead th {\n        text-align: right;\n    }\n</style>\n<table border=\"1\" class=\"dataframe\">\n  <thead>\n    <tr style=\"text-align: right;\">\n      <th></th>\n      <th>confirmed</th>\n      <th>confirmed_per_100k_inhabitants</th>\n    </tr>\n    <tr>\n      <th>date</th>\n      <th></th>\n      <th></th>\n    </tr>\n  </thead>\n  <tbody>\n    <tr>\n      <th>2020-03-06</th>\n      <td>1</td>\n      <td>0.00672</td>\n    </tr>\n    <tr>\n      <th>2020-03-07</th>\n      <td>2</td>\n      <td>0.01345</td>\n    </tr>\n    <tr>\n      <th>2020-03-09</th>\n      <td>2</td>\n      <td>0.01345</td>\n    </tr>\n    <tr>\n      <th>2020-03-10</th>\n      <td>2</td>\n      <td>0.01345</td>\n    </tr>\n    <tr>\n      <th>2020-03-11</th>\n      <td>3</td>\n      <td>0.02017</td>\n    </tr>\n    <tr>\n      <th>...</th>\n      <td>...</td>\n      <td>...</td>\n    </tr>\n    <tr>\n      <th>2020-06-06</th>\n      <td>27396</td>\n      <td>184.19876</td>\n    </tr>\n    <tr>\n      <th>2020-06-07</th>\n      <td>28250</td>\n      <td>189.94069</td>\n    </tr>\n    <tr>\n      <th>2020-06-08</th>\n      <td>28715</td>\n      <td>193.06714</td>\n    </tr>\n    <tr>\n      <th>2020-06-09</th>\n      <td>30481</td>\n      <td>204.94096</td>\n    </tr>\n    <tr>\n      <th>2020-06-10</th>\n      <td>32685</td>\n      <td>219.75969</td>\n    </tr>\n  </tbody>\n</table>\n<p>95 rows × 2 columns</p>\n</div>"
     },
     "metadata": {},
     "execution_count": 7
    }
   ],
   "source": [
    "df.groupby('date')[['confirmed', 'confirmed_per_100k_inhabitants']].sum()"
   ]
  },
  {
   "cell_type": "code",
   "execution_count": 8,
   "metadata": {},
   "outputs": [
    {
     "output_type": "execute_result",
     "data": {
      "text/plain": "            confirmed\ndate                 \n2020-03-06          1\n2020-03-07          2\n2020-03-09          2\n2020-03-10          2\n2020-03-11          3\n...               ...\n2020-06-06      27396\n2020-06-07      28250\n2020-06-08      28715\n2020-06-09      30481\n2020-06-10      32685\n\n[95 rows x 1 columns]",
      "text/html": "<div>\n<style scoped>\n    .dataframe tbody tr th:only-of-type {\n        vertical-align: middle;\n    }\n\n    .dataframe tbody tr th {\n        vertical-align: top;\n    }\n\n    .dataframe thead th {\n        text-align: right;\n    }\n</style>\n<table border=\"1\" class=\"dataframe\">\n  <thead>\n    <tr style=\"text-align: right;\">\n      <th></th>\n      <th>confirmed</th>\n    </tr>\n    <tr>\n      <th>date</th>\n      <th></th>\n    </tr>\n  </thead>\n  <tbody>\n    <tr>\n      <th>2020-03-06</th>\n      <td>1</td>\n    </tr>\n    <tr>\n      <th>2020-03-07</th>\n      <td>2</td>\n    </tr>\n    <tr>\n      <th>2020-03-09</th>\n      <td>2</td>\n    </tr>\n    <tr>\n      <th>2020-03-10</th>\n      <td>2</td>\n    </tr>\n    <tr>\n      <th>2020-03-11</th>\n      <td>3</td>\n    </tr>\n    <tr>\n      <th>...</th>\n      <td>...</td>\n    </tr>\n    <tr>\n      <th>2020-06-06</th>\n      <td>27396</td>\n    </tr>\n    <tr>\n      <th>2020-06-07</th>\n      <td>28250</td>\n    </tr>\n    <tr>\n      <th>2020-06-08</th>\n      <td>28715</td>\n    </tr>\n    <tr>\n      <th>2020-06-09</th>\n      <td>30481</td>\n    </tr>\n    <tr>\n      <th>2020-06-10</th>\n      <td>32685</td>\n    </tr>\n  </tbody>\n</table>\n<p>95 rows × 1 columns</p>\n</div>"
     },
     "metadata": {},
     "execution_count": 8
    }
   ],
   "source": [
    "df.groupby('date')[['confirmed']].sum()"
   ]
  },
  {
   "cell_type": "markdown",
   "metadata": {},
   "source": [
    "Select a particular state or city:"
   ]
  },
  {
   "cell_type": "code",
   "execution_count": 9,
   "metadata": {},
   "outputs": [],
   "source": [
    "state_or_city = 'state'\n",
    "\n",
    "\n",
    "df = df[ df['place_type'] == state_or_city]\n",
    "df = df[ df[state_or_city] == name ]\n",
    "\n",
    "df_I = df.groupby('date')[['confirmed', 'confirmed_per_100k_inhabitants']].sum()\n",
    "df_I.index = pd.to_datetime(df_I.index)\n",
    "today = df_I.index[-1] + timedelta(days=1)"
   ]
  },
  {
   "cell_type": "code",
   "execution_count": 10,
   "metadata": {},
   "outputs": [
    {
     "output_type": "execute_result",
     "data": {
      "text/plain": "            confirmed  confirmed_per_100k_inhabitants\ndate                                                 \n2020-03-06          1                         0.00672\n2020-03-07          2                         0.01345\n2020-03-09          2                         0.01345\n2020-03-10          2                         0.01345\n2020-03-11          3                         0.02017\n...               ...                             ...\n2020-06-06      27396                       184.19876\n2020-06-07      28250                       189.94069\n2020-06-08      28715                       193.06714\n2020-06-09      30481                       204.94096\n2020-06-10      32685                       219.75969\n\n[95 rows x 2 columns]",
      "text/html": "<div>\n<style scoped>\n    .dataframe tbody tr th:only-of-type {\n        vertical-align: middle;\n    }\n\n    .dataframe tbody tr th {\n        vertical-align: top;\n    }\n\n    .dataframe thead th {\n        text-align: right;\n    }\n</style>\n<table border=\"1\" class=\"dataframe\">\n  <thead>\n    <tr style=\"text-align: right;\">\n      <th></th>\n      <th>confirmed</th>\n      <th>confirmed_per_100k_inhabitants</th>\n    </tr>\n    <tr>\n      <th>date</th>\n      <th></th>\n      <th></th>\n    </tr>\n  </thead>\n  <tbody>\n    <tr>\n      <th>2020-03-06</th>\n      <td>1</td>\n      <td>0.00672</td>\n    </tr>\n    <tr>\n      <th>2020-03-07</th>\n      <td>2</td>\n      <td>0.01345</td>\n    </tr>\n    <tr>\n      <th>2020-03-09</th>\n      <td>2</td>\n      <td>0.01345</td>\n    </tr>\n    <tr>\n      <th>2020-03-10</th>\n      <td>2</td>\n      <td>0.01345</td>\n    </tr>\n    <tr>\n      <th>2020-03-11</th>\n      <td>3</td>\n      <td>0.02017</td>\n    </tr>\n    <tr>\n      <th>...</th>\n      <td>...</td>\n      <td>...</td>\n    </tr>\n    <tr>\n      <th>2020-06-06</th>\n      <td>27396</td>\n      <td>184.19876</td>\n    </tr>\n    <tr>\n      <th>2020-06-07</th>\n      <td>28250</td>\n      <td>189.94069</td>\n    </tr>\n    <tr>\n      <th>2020-06-08</th>\n      <td>28715</td>\n      <td>193.06714</td>\n    </tr>\n    <tr>\n      <th>2020-06-09</th>\n      <td>30481</td>\n      <td>204.94096</td>\n    </tr>\n    <tr>\n      <th>2020-06-10</th>\n      <td>32685</td>\n      <td>219.75969</td>\n    </tr>\n  </tbody>\n</table>\n<p>95 rows × 2 columns</p>\n</div>"
     },
     "metadata": {},
     "execution_count": 10
    }
   ],
   "source": [
    "df_I"
   ]
  },
  {
   "cell_type": "code",
   "execution_count": 11,
   "metadata": {},
   "outputs": [],
   "source": [
    "alpha = 30.\n",
    "alpha2 = 7."
   ]
  },
  {
   "cell_type": "code",
   "execution_count": 12,
   "metadata": {},
   "outputs": [],
   "source": [
    "def delta(df_conf):\n",
    "\n",
    "    list_ = []\n",
    "    list_.append(0)\n",
    "\n",
    "    for j in range(len(df_conf) - 1):\n",
    "\n",
    "        list_.append(df_conf[j+1] - df_conf[j])\n",
    "\n",
    "    return list_"
   ]
  },
  {
   "cell_type": "code",
   "execution_count": 13,
   "metadata": {},
   "outputs": [],
   "source": [
    "df_I['growth_rate'] = delta(df_I['confirmed'])\n",
    "# Exponential weight\n",
    "df_I['growth_rate_EWM'] = df_I['growth_rate'].ewm(com= alpha).mean()\n",
    "# Rate\n",
    "df_I['growth_accel'] = delta(df_I['growth_rate_EWM'])\n",
    "# Exponential weight\n",
    "df_I['growth_accel_EWM'] = df_I['growth_accel'].ewm(com= alpha2).mean()\n",
    "\n",
    "\n",
    "df_I['growth_rate_EWM_NORM_(%)'] = 100*df_I['growth_rate_EWM'] / df_I['confirmed']\n",
    "df_I['growth_accel_EWM_NORM_(%)'] = 100*df_I['growth_accel_EWM'] / df_I['confirmed']\n",
    "\n",
    "df_I['growth_rate_NORM_(%)'] = 100*df_I['growth_rate'] / df_I['confirmed']\n",
    "df_I['growth_accel_NORM_(%)'] = 100*df_I['growth_accel'] / df_I['confirmed']"
   ]
  },
  {
   "cell_type": "code",
   "execution_count": 14,
   "metadata": {},
   "outputs": [
    {
     "output_type": "execute_result",
     "data": {
      "text/plain": "            confirmed  confirmed_per_100k_inhabitants  growth_rate  \\\ndate                                                                 \n2020-03-06          1                         0.00672            0   \n2020-03-07          2                         0.01345            1   \n2020-03-09          2                         0.01345            0   \n2020-03-10          2                         0.01345            0   \n2020-03-11          3                         0.02017            1   \n...               ...                             ...          ...   \n2020-06-06      27396                       184.19876          977   \n2020-06-07      28250                       189.94069          854   \n2020-06-08      28715                       193.06714          465   \n2020-06-09      30481                       204.94096         1766   \n2020-06-10      32685                       219.75969         2204   \n\n            growth_rate_EWM  growth_accel  growth_accel_EWM  \\\ndate                                                          \n2020-03-06         0.000000      0.000000          0.000000   \n2020-03-07         0.508197      0.508197          0.271038   \n2020-03-09         0.333214     -0.174983          0.102131   \n2020-03-10         0.245770     -0.087444          0.044867   \n2020-03-11         0.406667      0.160897          0.074643   \n...                     ...           ...               ...   \n2020-06-06       608.969395     12.944462         24.948984   \n2020-06-07       617.280559      8.311163         22.869247   \n2020-06-08       612.123937     -5.156622         19.365999   \n2020-06-09       651.134630     39.010693         21.821595   \n2020-06-10       703.553244     52.418614         25.646234   \n\n            growth_rate_EWM_NORM_(%)  growth_accel_EWM_NORM_(%)  \\\ndate                                                              \n2020-03-06                  0.000000                   0.000000   \n2020-03-07                 25.409836                  13.551913   \n2020-03-09                 16.660695                   5.106543   \n2020-03-10                 12.288475                   2.243342   \n2020-03-11                 13.555552                   2.488105   \n...                              ...                        ...   \n2020-06-06                  2.222841                   0.091068   \n2020-06-07                  2.185064                   0.080953   \n2020-06-08                  2.131722                   0.067442   \n2020-06-09                  2.136198                   0.071591   \n2020-06-10                  2.152526                   0.078465   \n\n            growth_rate_NORM_(%)  growth_accel_NORM_(%)  \ndate                                                     \n2020-03-06              0.000000               0.000000  \n2020-03-07             50.000000              25.409836  \n2020-03-09              0.000000              -8.749141  \n2020-03-10              0.000000              -4.372220  \n2020-03-11             33.333333               5.363236  \n...                          ...                    ...  \n2020-06-06              3.566214               0.047249  \n2020-06-07              3.023009               0.029420  \n2020-06-08              1.619363              -0.017958  \n2020-06-09              5.793773               0.127984  \n2020-06-10              6.743154               0.160375  \n\n[95 rows x 10 columns]",
      "text/html": "<div>\n<style scoped>\n    .dataframe tbody tr th:only-of-type {\n        vertical-align: middle;\n    }\n\n    .dataframe tbody tr th {\n        vertical-align: top;\n    }\n\n    .dataframe thead th {\n        text-align: right;\n    }\n</style>\n<table border=\"1\" class=\"dataframe\">\n  <thead>\n    <tr style=\"text-align: right;\">\n      <th></th>\n      <th>confirmed</th>\n      <th>confirmed_per_100k_inhabitants</th>\n      <th>growth_rate</th>\n      <th>growth_rate_EWM</th>\n      <th>growth_accel</th>\n      <th>growth_accel_EWM</th>\n      <th>growth_rate_EWM_NORM_(%)</th>\n      <th>growth_accel_EWM_NORM_(%)</th>\n      <th>growth_rate_NORM_(%)</th>\n      <th>growth_accel_NORM_(%)</th>\n    </tr>\n    <tr>\n      <th>date</th>\n      <th></th>\n      <th></th>\n      <th></th>\n      <th></th>\n      <th></th>\n      <th></th>\n      <th></th>\n      <th></th>\n      <th></th>\n      <th></th>\n    </tr>\n  </thead>\n  <tbody>\n    <tr>\n      <th>2020-03-06</th>\n      <td>1</td>\n      <td>0.00672</td>\n      <td>0</td>\n      <td>0.000000</td>\n      <td>0.000000</td>\n      <td>0.000000</td>\n      <td>0.000000</td>\n      <td>0.000000</td>\n      <td>0.000000</td>\n      <td>0.000000</td>\n    </tr>\n    <tr>\n      <th>2020-03-07</th>\n      <td>2</td>\n      <td>0.01345</td>\n      <td>1</td>\n      <td>0.508197</td>\n      <td>0.508197</td>\n      <td>0.271038</td>\n      <td>25.409836</td>\n      <td>13.551913</td>\n      <td>50.000000</td>\n      <td>25.409836</td>\n    </tr>\n    <tr>\n      <th>2020-03-09</th>\n      <td>2</td>\n      <td>0.01345</td>\n      <td>0</td>\n      <td>0.333214</td>\n      <td>-0.174983</td>\n      <td>0.102131</td>\n      <td>16.660695</td>\n      <td>5.106543</td>\n      <td>0.000000</td>\n      <td>-8.749141</td>\n    </tr>\n    <tr>\n      <th>2020-03-10</th>\n      <td>2</td>\n      <td>0.01345</td>\n      <td>0</td>\n      <td>0.245770</td>\n      <td>-0.087444</td>\n      <td>0.044867</td>\n      <td>12.288475</td>\n      <td>2.243342</td>\n      <td>0.000000</td>\n      <td>-4.372220</td>\n    </tr>\n    <tr>\n      <th>2020-03-11</th>\n      <td>3</td>\n      <td>0.02017</td>\n      <td>1</td>\n      <td>0.406667</td>\n      <td>0.160897</td>\n      <td>0.074643</td>\n      <td>13.555552</td>\n      <td>2.488105</td>\n      <td>33.333333</td>\n      <td>5.363236</td>\n    </tr>\n    <tr>\n      <th>...</th>\n      <td>...</td>\n      <td>...</td>\n      <td>...</td>\n      <td>...</td>\n      <td>...</td>\n      <td>...</td>\n      <td>...</td>\n      <td>...</td>\n      <td>...</td>\n      <td>...</td>\n    </tr>\n    <tr>\n      <th>2020-06-06</th>\n      <td>27396</td>\n      <td>184.19876</td>\n      <td>977</td>\n      <td>608.969395</td>\n      <td>12.944462</td>\n      <td>24.948984</td>\n      <td>2.222841</td>\n      <td>0.091068</td>\n      <td>3.566214</td>\n      <td>0.047249</td>\n    </tr>\n    <tr>\n      <th>2020-06-07</th>\n      <td>28250</td>\n      <td>189.94069</td>\n      <td>854</td>\n      <td>617.280559</td>\n      <td>8.311163</td>\n      <td>22.869247</td>\n      <td>2.185064</td>\n      <td>0.080953</td>\n      <td>3.023009</td>\n      <td>0.029420</td>\n    </tr>\n    <tr>\n      <th>2020-06-08</th>\n      <td>28715</td>\n      <td>193.06714</td>\n      <td>465</td>\n      <td>612.123937</td>\n      <td>-5.156622</td>\n      <td>19.365999</td>\n      <td>2.131722</td>\n      <td>0.067442</td>\n      <td>1.619363</td>\n      <td>-0.017958</td>\n    </tr>\n    <tr>\n      <th>2020-06-09</th>\n      <td>30481</td>\n      <td>204.94096</td>\n      <td>1766</td>\n      <td>651.134630</td>\n      <td>39.010693</td>\n      <td>21.821595</td>\n      <td>2.136198</td>\n      <td>0.071591</td>\n      <td>5.793773</td>\n      <td>0.127984</td>\n    </tr>\n    <tr>\n      <th>2020-06-10</th>\n      <td>32685</td>\n      <td>219.75969</td>\n      <td>2204</td>\n      <td>703.553244</td>\n      <td>52.418614</td>\n      <td>25.646234</td>\n      <td>2.152526</td>\n      <td>0.078465</td>\n      <td>6.743154</td>\n      <td>0.160375</td>\n    </tr>\n  </tbody>\n</table>\n<p>95 rows × 10 columns</p>\n</div>"
     },
     "metadata": {},
     "execution_count": 14
    }
   ],
   "source": [
    "df_I"
   ]
  },
  {
   "cell_type": "code",
   "execution_count": null,
   "metadata": {},
   "outputs": [],
   "source": []
  },
  {
   "cell_type": "code",
   "execution_count": 15,
   "metadata": {},
   "outputs": [
    {
     "output_type": "stream",
     "name": "stdout",
     "text": "BA\n"
    }
   ],
   "source": [
    "states_3 = ['BA']\n",
    "\n",
    "state_or_city = 'state'\n",
    "fit_until = '06-10'\n",
    "\n",
    "for j in states_3:\n",
    "    name = str(j)\n",
    "    print(name)\n",
    "\n",
    "    path = 'results/dfs/'\n",
    "    path_ = 'results/dfs/csv/'\n",
    "\n",
    "    file_ = 'df_ICU_' + state_or_city + '_' + name + '_fit_until_' + fit_until\n",
    "\n",
    "    df = pd.read_pickle(path + file_ + '.pkl')\n",
    "    #df.to_csv(path_ + file_ + '.csv', index= True, sep= ';')"
   ]
  },
  {
   "cell_type": "code",
   "execution_count": 16,
   "metadata": {},
   "outputs": [
    {
     "output_type": "execute_result",
     "data": {
      "text/plain": "             n_mean       n_std  n_mean_ICU   n_std_ICU  n_mean_ICU_SUS  \\\ndate                                                                      \n2020-03-06      1.0    0.964941        0.00    0.964941            0.00   \n2020-03-07      2.0    1.364114        0.00    1.364114            0.00   \n2020-03-09      2.0    1.393346        0.00    1.393346            0.00   \n2020-03-10      2.0    1.390952        0.00    1.390952            0.00   \n2020-03-11      3.0    1.684870        0.00    1.684870            0.00   \n...             ...         ...         ...         ...             ...   \n2020-06-06  27396.0  157.321528      875.62  197.055697          781.04   \n2020-06-07  28250.0  162.075128      879.53  203.592693          785.04   \n2020-06-08  28715.0  164.671367      883.75  204.398549          789.40   \n2020-06-09  30481.0  171.252437      972.22  213.813410          869.67   \n2020-06-10  32685.0  174.215006     1078.06  216.003272          961.76   \n\n            n_std_ICU_SUS  n_mean_ICU_PRIVATE  n_std_ICU_PRIVATE  \ndate                                                              \n2020-03-06       0.964941                0.00           1.376972  \n2020-03-07       1.364114                0.00           1.795807  \n2020-03-09       1.393346                0.00           1.826133  \n2020-03-10       1.390952                0.00           1.823650  \n2020-03-11       1.684870                0.00           2.126889  \n...                   ...                 ...                ...  \n2020-06-06     197.316411               94.58         197.555724  \n2020-06-07     203.810311               94.49         204.092614  \n2020-06-08     204.582469               94.35         204.898387  \n2020-06-09     213.988821              102.55         214.313236  \n2020-06-10     216.194995              116.30         216.503138  \n\n[95 rows x 8 columns]",
      "text/html": "<div>\n<style scoped>\n    .dataframe tbody tr th:only-of-type {\n        vertical-align: middle;\n    }\n\n    .dataframe tbody tr th {\n        vertical-align: top;\n    }\n\n    .dataframe thead th {\n        text-align: right;\n    }\n</style>\n<table border=\"1\" class=\"dataframe\">\n  <thead>\n    <tr style=\"text-align: right;\">\n      <th></th>\n      <th>n_mean</th>\n      <th>n_std</th>\n      <th>n_mean_ICU</th>\n      <th>n_std_ICU</th>\n      <th>n_mean_ICU_SUS</th>\n      <th>n_std_ICU_SUS</th>\n      <th>n_mean_ICU_PRIVATE</th>\n      <th>n_std_ICU_PRIVATE</th>\n    </tr>\n    <tr>\n      <th>date</th>\n      <th></th>\n      <th></th>\n      <th></th>\n      <th></th>\n      <th></th>\n      <th></th>\n      <th></th>\n      <th></th>\n    </tr>\n  </thead>\n  <tbody>\n    <tr>\n      <th>2020-03-06</th>\n      <td>1.0</td>\n      <td>0.964941</td>\n      <td>0.00</td>\n      <td>0.964941</td>\n      <td>0.00</td>\n      <td>0.964941</td>\n      <td>0.00</td>\n      <td>1.376972</td>\n    </tr>\n    <tr>\n      <th>2020-03-07</th>\n      <td>2.0</td>\n      <td>1.364114</td>\n      <td>0.00</td>\n      <td>1.364114</td>\n      <td>0.00</td>\n      <td>1.364114</td>\n      <td>0.00</td>\n      <td>1.795807</td>\n    </tr>\n    <tr>\n      <th>2020-03-09</th>\n      <td>2.0</td>\n      <td>1.393346</td>\n      <td>0.00</td>\n      <td>1.393346</td>\n      <td>0.00</td>\n      <td>1.393346</td>\n      <td>0.00</td>\n      <td>1.826133</td>\n    </tr>\n    <tr>\n      <th>2020-03-10</th>\n      <td>2.0</td>\n      <td>1.390952</td>\n      <td>0.00</td>\n      <td>1.390952</td>\n      <td>0.00</td>\n      <td>1.390952</td>\n      <td>0.00</td>\n      <td>1.823650</td>\n    </tr>\n    <tr>\n      <th>2020-03-11</th>\n      <td>3.0</td>\n      <td>1.684870</td>\n      <td>0.00</td>\n      <td>1.684870</td>\n      <td>0.00</td>\n      <td>1.684870</td>\n      <td>0.00</td>\n      <td>2.126889</td>\n    </tr>\n    <tr>\n      <th>...</th>\n      <td>...</td>\n      <td>...</td>\n      <td>...</td>\n      <td>...</td>\n      <td>...</td>\n      <td>...</td>\n      <td>...</td>\n      <td>...</td>\n    </tr>\n    <tr>\n      <th>2020-06-06</th>\n      <td>27396.0</td>\n      <td>157.321528</td>\n      <td>875.62</td>\n      <td>197.055697</td>\n      <td>781.04</td>\n      <td>197.316411</td>\n      <td>94.58</td>\n      <td>197.555724</td>\n    </tr>\n    <tr>\n      <th>2020-06-07</th>\n      <td>28250.0</td>\n      <td>162.075128</td>\n      <td>879.53</td>\n      <td>203.592693</td>\n      <td>785.04</td>\n      <td>203.810311</td>\n      <td>94.49</td>\n      <td>204.092614</td>\n    </tr>\n    <tr>\n      <th>2020-06-08</th>\n      <td>28715.0</td>\n      <td>164.671367</td>\n      <td>883.75</td>\n      <td>204.398549</td>\n      <td>789.40</td>\n      <td>204.582469</td>\n      <td>94.35</td>\n      <td>204.898387</td>\n    </tr>\n    <tr>\n      <th>2020-06-09</th>\n      <td>30481.0</td>\n      <td>171.252437</td>\n      <td>972.22</td>\n      <td>213.813410</td>\n      <td>869.67</td>\n      <td>213.988821</td>\n      <td>102.55</td>\n      <td>214.313236</td>\n    </tr>\n    <tr>\n      <th>2020-06-10</th>\n      <td>32685.0</td>\n      <td>174.215006</td>\n      <td>1078.06</td>\n      <td>216.003272</td>\n      <td>961.76</td>\n      <td>216.194995</td>\n      <td>116.30</td>\n      <td>216.503138</td>\n    </tr>\n  </tbody>\n</table>\n<p>95 rows × 8 columns</p>\n</div>"
     },
     "metadata": {},
     "execution_count": 16
    }
   ],
   "source": [
    "df"
   ]
  },
  {
   "cell_type": "code",
   "execution_count": 17,
   "metadata": {},
   "outputs": [],
   "source": [
    "df2 = df.drop(columns=['n_mean', 'n_std', 'n_mean_ICU_PRIVATE', 'n_std_ICU_PRIVATE'])"
   ]
  },
  {
   "cell_type": "code",
   "execution_count": 20,
   "metadata": {},
   "outputs": [
    {
     "output_type": "execute_result",
     "data": {
      "text/plain": "            n_mean_ICU   n_std_ICU  n_mean_ICU_SUS  n_std_ICU_SUS  confirmed  \\\ndate                                                                           \n2020-03-06        0.00    0.964941            0.00       0.964941          1   \n2020-03-07        0.00    1.364114            0.00       1.364114          2   \n2020-03-09        0.00    1.393346            0.00       1.393346          2   \n2020-03-10        0.00    1.390952            0.00       1.390952          2   \n2020-03-11        0.00    1.684870            0.00       1.684870          3   \n...                ...         ...             ...            ...        ...   \n2020-06-06      875.62  197.055697          781.04     197.316411      27396   \n2020-06-07      879.53  203.592693          785.04     203.810311      28250   \n2020-06-08      883.75  204.398549          789.40     204.582469      28715   \n2020-06-09      972.22  213.813410          869.67     213.988821      30481   \n2020-06-10     1078.06  216.003272          961.76     216.194995      32685   \n\n            confirmed_per_100k_inhabitants  growth_rate  growth_rate_EWM  \\\ndate                                                                       \n2020-03-06                         0.00672            0         0.000000   \n2020-03-07                         0.01345            1         0.508197   \n2020-03-09                         0.01345            0         0.333214   \n2020-03-10                         0.01345            0         0.245770   \n2020-03-11                         0.02017            1         0.406667   \n...                                    ...          ...              ...   \n2020-06-06                       184.19876          977       608.969395   \n2020-06-07                       189.94069          854       617.280559   \n2020-06-08                       193.06714          465       612.123937   \n2020-06-09                       204.94096         1766       651.134630   \n2020-06-10                       219.75969         2204       703.553244   \n\n            growth_accel  growth_accel_EWM  growth_rate_EWM_NORM_(%)  \\\ndate                                                                   \n2020-03-06      0.000000          0.000000                  0.000000   \n2020-03-07      0.508197          0.271038                 25.409836   \n2020-03-09     -0.174983          0.102131                 16.660695   \n2020-03-10     -0.087444          0.044867                 12.288475   \n2020-03-11      0.160897          0.074643                 13.555552   \n...                  ...               ...                       ...   \n2020-06-06     12.944462         24.948984                  2.222841   \n2020-06-07      8.311163         22.869247                  2.185064   \n2020-06-08     -5.156622         19.365999                  2.131722   \n2020-06-09     39.010693         21.821595                  2.136198   \n2020-06-10     52.418614         25.646234                  2.152526   \n\n            growth_accel_EWM_NORM_(%)  growth_rate_NORM_(%)  \\\ndate                                                          \n2020-03-06                   0.000000              0.000000   \n2020-03-07                  13.551913             50.000000   \n2020-03-09                   5.106543              0.000000   \n2020-03-10                   2.243342              0.000000   \n2020-03-11                   2.488105             33.333333   \n...                               ...                   ...   \n2020-06-06                   0.091068              3.566214   \n2020-06-07                   0.080953              3.023009   \n2020-06-08                   0.067442              1.619363   \n2020-06-09                   0.071591              5.793773   \n2020-06-10                   0.078465              6.743154   \n\n            growth_accel_NORM_(%)  \ndate                               \n2020-03-06               0.000000  \n2020-03-07              25.409836  \n2020-03-09              -8.749141  \n2020-03-10              -4.372220  \n2020-03-11               5.363236  \n...                           ...  \n2020-06-06               0.047249  \n2020-06-07               0.029420  \n2020-06-08              -0.017958  \n2020-06-09               0.127984  \n2020-06-10               0.160375  \n\n[95 rows x 14 columns]",
      "text/html": "<div>\n<style scoped>\n    .dataframe tbody tr th:only-of-type {\n        vertical-align: middle;\n    }\n\n    .dataframe tbody tr th {\n        vertical-align: top;\n    }\n\n    .dataframe thead th {\n        text-align: right;\n    }\n</style>\n<table border=\"1\" class=\"dataframe\">\n  <thead>\n    <tr style=\"text-align: right;\">\n      <th></th>\n      <th>n_mean_ICU</th>\n      <th>n_std_ICU</th>\n      <th>n_mean_ICU_SUS</th>\n      <th>n_std_ICU_SUS</th>\n      <th>confirmed</th>\n      <th>confirmed_per_100k_inhabitants</th>\n      <th>growth_rate</th>\n      <th>growth_rate_EWM</th>\n      <th>growth_accel</th>\n      <th>growth_accel_EWM</th>\n      <th>growth_rate_EWM_NORM_(%)</th>\n      <th>growth_accel_EWM_NORM_(%)</th>\n      <th>growth_rate_NORM_(%)</th>\n      <th>growth_accel_NORM_(%)</th>\n    </tr>\n    <tr>\n      <th>date</th>\n      <th></th>\n      <th></th>\n      <th></th>\n      <th></th>\n      <th></th>\n      <th></th>\n      <th></th>\n      <th></th>\n      <th></th>\n      <th></th>\n      <th></th>\n      <th></th>\n      <th></th>\n      <th></th>\n    </tr>\n  </thead>\n  <tbody>\n    <tr>\n      <th>2020-03-06</th>\n      <td>0.00</td>\n      <td>0.964941</td>\n      <td>0.00</td>\n      <td>0.964941</td>\n      <td>1</td>\n      <td>0.00672</td>\n      <td>0</td>\n      <td>0.000000</td>\n      <td>0.000000</td>\n      <td>0.000000</td>\n      <td>0.000000</td>\n      <td>0.000000</td>\n      <td>0.000000</td>\n      <td>0.000000</td>\n    </tr>\n    <tr>\n      <th>2020-03-07</th>\n      <td>0.00</td>\n      <td>1.364114</td>\n      <td>0.00</td>\n      <td>1.364114</td>\n      <td>2</td>\n      <td>0.01345</td>\n      <td>1</td>\n      <td>0.508197</td>\n      <td>0.508197</td>\n      <td>0.271038</td>\n      <td>25.409836</td>\n      <td>13.551913</td>\n      <td>50.000000</td>\n      <td>25.409836</td>\n    </tr>\n    <tr>\n      <th>2020-03-09</th>\n      <td>0.00</td>\n      <td>1.393346</td>\n      <td>0.00</td>\n      <td>1.393346</td>\n      <td>2</td>\n      <td>0.01345</td>\n      <td>0</td>\n      <td>0.333214</td>\n      <td>-0.174983</td>\n      <td>0.102131</td>\n      <td>16.660695</td>\n      <td>5.106543</td>\n      <td>0.000000</td>\n      <td>-8.749141</td>\n    </tr>\n    <tr>\n      <th>2020-03-10</th>\n      <td>0.00</td>\n      <td>1.390952</td>\n      <td>0.00</td>\n      <td>1.390952</td>\n      <td>2</td>\n      <td>0.01345</td>\n      <td>0</td>\n      <td>0.245770</td>\n      <td>-0.087444</td>\n      <td>0.044867</td>\n      <td>12.288475</td>\n      <td>2.243342</td>\n      <td>0.000000</td>\n      <td>-4.372220</td>\n    </tr>\n    <tr>\n      <th>2020-03-11</th>\n      <td>0.00</td>\n      <td>1.684870</td>\n      <td>0.00</td>\n      <td>1.684870</td>\n      <td>3</td>\n      <td>0.02017</td>\n      <td>1</td>\n      <td>0.406667</td>\n      <td>0.160897</td>\n      <td>0.074643</td>\n      <td>13.555552</td>\n      <td>2.488105</td>\n      <td>33.333333</td>\n      <td>5.363236</td>\n    </tr>\n    <tr>\n      <th>...</th>\n      <td>...</td>\n      <td>...</td>\n      <td>...</td>\n      <td>...</td>\n      <td>...</td>\n      <td>...</td>\n      <td>...</td>\n      <td>...</td>\n      <td>...</td>\n      <td>...</td>\n      <td>...</td>\n      <td>...</td>\n      <td>...</td>\n      <td>...</td>\n    </tr>\n    <tr>\n      <th>2020-06-06</th>\n      <td>875.62</td>\n      <td>197.055697</td>\n      <td>781.04</td>\n      <td>197.316411</td>\n      <td>27396</td>\n      <td>184.19876</td>\n      <td>977</td>\n      <td>608.969395</td>\n      <td>12.944462</td>\n      <td>24.948984</td>\n      <td>2.222841</td>\n      <td>0.091068</td>\n      <td>3.566214</td>\n      <td>0.047249</td>\n    </tr>\n    <tr>\n      <th>2020-06-07</th>\n      <td>879.53</td>\n      <td>203.592693</td>\n      <td>785.04</td>\n      <td>203.810311</td>\n      <td>28250</td>\n      <td>189.94069</td>\n      <td>854</td>\n      <td>617.280559</td>\n      <td>8.311163</td>\n      <td>22.869247</td>\n      <td>2.185064</td>\n      <td>0.080953</td>\n      <td>3.023009</td>\n      <td>0.029420</td>\n    </tr>\n    <tr>\n      <th>2020-06-08</th>\n      <td>883.75</td>\n      <td>204.398549</td>\n      <td>789.40</td>\n      <td>204.582469</td>\n      <td>28715</td>\n      <td>193.06714</td>\n      <td>465</td>\n      <td>612.123937</td>\n      <td>-5.156622</td>\n      <td>19.365999</td>\n      <td>2.131722</td>\n      <td>0.067442</td>\n      <td>1.619363</td>\n      <td>-0.017958</td>\n    </tr>\n    <tr>\n      <th>2020-06-09</th>\n      <td>972.22</td>\n      <td>213.813410</td>\n      <td>869.67</td>\n      <td>213.988821</td>\n      <td>30481</td>\n      <td>204.94096</td>\n      <td>1766</td>\n      <td>651.134630</td>\n      <td>39.010693</td>\n      <td>21.821595</td>\n      <td>2.136198</td>\n      <td>0.071591</td>\n      <td>5.793773</td>\n      <td>0.127984</td>\n    </tr>\n    <tr>\n      <th>2020-06-10</th>\n      <td>1078.06</td>\n      <td>216.003272</td>\n      <td>961.76</td>\n      <td>216.194995</td>\n      <td>32685</td>\n      <td>219.75969</td>\n      <td>2204</td>\n      <td>703.553244</td>\n      <td>52.418614</td>\n      <td>25.646234</td>\n      <td>2.152526</td>\n      <td>0.078465</td>\n      <td>6.743154</td>\n      <td>0.160375</td>\n    </tr>\n  </tbody>\n</table>\n<p>95 rows × 14 columns</p>\n</div>"
     },
     "metadata": {},
     "execution_count": 20
    }
   ],
   "source": [
    "df2.join(df_I)"
   ]
  },
  {
   "cell_type": "code",
   "execution_count": null,
   "metadata": {},
   "outputs": [],
   "source": []
  },
  {
   "cell_type": "code",
   "execution_count": null,
   "metadata": {},
   "outputs": [],
   "source": []
  }
 ],
 "metadata": {
  "kernelspec": {
   "display_name": "Python 3",
   "language": "python",
   "name": "python3"
  },
  "language_info": {
   "codemirror_mode": {
    "name": "ipython",
    "version": 3
   },
   "file_extension": ".py",
   "mimetype": "text/x-python",
   "name": "python",
   "nbconvert_exporter": "python",
   "pygments_lexer": "ipython3",
   "version": "3.7.3-final"
  }
 },
 "nbformat": 4,
 "nbformat_minor": 2
}