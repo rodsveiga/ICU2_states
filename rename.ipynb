{
 "cells": [
  {
   "cell_type": "markdown",
   "metadata": {},
   "source": [
    "# Bla"
   ]
  },
  {
   "cell_type": "code",
   "execution_count": 31,
   "metadata": {},
   "outputs": [],
   "source": [
    "import numpy as np\n",
    "import pandas as pd\n",
    "import matplotlib.pyplot as plt\n",
    "from sklearn import linear_model\n",
    "from scipy.optimize import minimize \n",
    "from datetime import timedelta\n",
    "import datetime as dt\n",
    "from IPython.display import Image\n",
    "import requests"
   ]
  },
  {
   "cell_type": "code",
   "execution_count": 32,
   "metadata": {},
   "outputs": [],
   "source": [
    "filename = 'data/brazil_covid19_06_11.csv'\n",
    "df_ = pd.read_csv(filename)"
   ]
  },
  {
   "cell_type": "code",
   "execution_count": 33,
   "metadata": {},
   "outputs": [],
   "source": [
    "def delta(df_conf):\n",
    "\n",
    "    list_ = []\n",
    "    list_.append(0)\n",
    "\n",
    "    for j in range(len(df_conf) - 1):\n",
    "\n",
    "        list_.append(df_conf[j+1] - df_conf[j])\n",
    "\n",
    "    return list_\n",
    "\n",
    "alpha = 30.\n",
    "alpha2 = 7."
   ]
  },
  {
   "cell_type": "code",
   "execution_count": 34,
   "metadata": {},
   "outputs": [],
   "source": [
    "states_ = ['AC', 'AL', 'AP', 'AM', 'BA', 'CE', 'DF', 'ES', 'GO', 'MA', 'MT', 'MG', 'PA', 'PB', 'PR', 'PE', 'PI', 'RJ', 'RS', 'RO',  'SC', 'SP', 'SE']\n",
    "\n",
    "states_2 = ['Blumenau', 'Sao_Carlos', 'Sao_Paulo']\n",
    "\n",
    "states_3 = ['MS', 'RR', 'TO', 'RN']\n",
    "\n",
    "#states_4 = ['RJ']"
   ]
  },
  {
   "cell_type": "code",
   "execution_count": 37,
   "metadata": {},
   "outputs": [
    {
     "output_type": "stream",
     "name": "stdout",
     "text": "Blumenau\nSao_Carlos\nSao_Paulo\n"
    }
   ],
   "source": [
    "state_or_city = 'city'\n",
    "fit_until = '06-10'\n",
    "\n",
    "for j in states_2:\n",
    "    name = str(j)\n",
    "    print(name)\n",
    "\n",
    "    path = 'results/dfs/'\n",
    "    path_ = 'results/dfs/csv/'\n",
    "\n",
    "    file_ = 'df_ICU_' + state_or_city + '_' + name + '_fit_until_' + fit_until\n",
    "\n",
    "\n",
    "    #############################################\n",
    "    df2 = pd.read_pickle(path + file_ + '.pkl')\n",
    "    df2 = df2.drop(columns=['n_mean', 'n_std', 'n_mean_ICU_PRIVATE', 'n_std_ICU_PRIVATE'])\n",
    "    #############################################\n",
    "\n",
    "    #state_or_city = 'city'\n",
    "    df = df_[ df_['place_type'] == state_or_city]\n",
    "    df = df[ df[state_or_city] == name ]\n",
    "    df_I = df.groupby('date')[['confirmed', 'confirmed_per_100k_inhabitants']].sum()\n",
    "    df_I.index = pd.to_datetime(df_I.index)\n",
    "\n",
    "    df_I['growth_rate'] = delta(df_I['confirmed'])\n",
    "    # Exponential weight\n",
    "    df_I['growth_rate_EWM'] = df_I['growth_rate'].ewm(com= alpha).mean()\n",
    "    # Rate\n",
    "    df_I['growth_accel'] = delta(df_I['growth_rate_EWM'])\n",
    "    # Exponential weight\n",
    "    df_I['growth_accel_EWM'] = df_I['growth_accel'].ewm(com= alpha2).mean()\n",
    "\n",
    "    df_I['growth_rate_EWM_NORM_(%)'] = 100*df_I['growth_rate_EWM'] / df_I['confirmed']\n",
    "    df_I['growth_accel_EWM_NORM_(%)'] = 100*df_I['growth_accel_EWM'] / df_I['confirmed']\n",
    "\n",
    "    df_I['growth_rate_NORM_(%)'] = 100*df_I['growth_rate'] / df_I['confirmed']\n",
    "    df_I['growth_accel_NORM_(%)'] = 100*df_I['growth_accel'] / df_I['confirmed']\n",
    "\n",
    "    #############################################\n",
    "\n",
    "    df_END = df2.join(df_I)\n",
    "\n",
    "\n",
    "    df_END.to_csv(path_ + file_ + '_.csv', index= True, sep= ',')"
   ]
  }
 ],
 "metadata": {
  "kernelspec": {
   "display_name": "Python 3",
   "language": "python",
   "name": "python3"
  },
  "language_info": {
   "codemirror_mode": {
    "name": "ipython",
    "version": 3
   },
   "file_extension": ".py",
   "mimetype": "text/x-python",
   "name": "python",
   "nbconvert_exporter": "python",
   "pygments_lexer": "ipython3",
   "version": "3.7.3-final"
  }
 },
 "nbformat": 4,
 "nbformat_minor": 2
}