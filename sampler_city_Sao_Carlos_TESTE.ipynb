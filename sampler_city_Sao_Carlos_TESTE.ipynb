{
 "cells": [
  {
   "cell_type": "markdown",
   "metadata": {},
   "source": [
    "# Age-structured ICU demand sampler"
   ]
  },
  {
   "cell_type": "code",
   "execution_count": 41,
   "metadata": {},
   "outputs": [],
   "source": [
    "import numpy as np\n",
    "import pandas as pd\n",
    "import matplotlib.pyplot as plt\n",
    "from sklearn import linear_model\n",
    "from scipy.optimize import minimize \n",
    "from datetime import timedelta\n",
    "import datetime as dt\n",
    "from IPython.display import Image\n",
    "import requests"
   ]
  },
  {
   "cell_type": "code",
   "execution_count": 42,
   "metadata": {},
   "outputs": [],
   "source": [
    "name = 'São Carlos'\n",
    "state_or_city = 'city'\n",
    "pop0 = \t251983\n",
    "p_SUS = 0.6278\n",
    "\n",
    "state = 'SP'\n",
    "name_file = 'Sao_Carlos'"
   ]
  },
  {
   "cell_type": "markdown",
   "metadata": {},
   "source": [
    "## Data\n",
    "\n",
    "### Brazil\n",
    "\n",
    "#### COVID-19 DATA\n",
    "\n",
    "Data source: [Brasil.IO](https://brasil.io/dataset/covid19/caso). Observe the database changes every day.\n",
    "\n"
   ]
  },
  {
   "cell_type": "code",
   "execution_count": 43,
   "metadata": {},
   "outputs": [],
   "source": [
    "#url = \"https://brasil.io/dataset/covid19/caso/?format=csv\"\n",
    "#filename = 'data/brazil_' + url.split(\"/\")[-3] + '.csv'\n",
    "#with open(filename, \"wb\") as f:\n",
    "#    r = requests.get(url)\n",
    "#    f.write(r.content)"
   ]
  },
  {
   "cell_type": "markdown",
   "metadata": {},
   "source": [
    "To keep the same analysis, we keep the data basis from June 11."
   ]
  },
  {
   "cell_type": "code",
   "execution_count": 44,
   "metadata": {},
   "outputs": [
    {
     "output_type": "execute_result",
     "data": {
      "text/plain": "         date state          city place_type  confirmed  deaths  is_last  \\\n0  2020-06-10    AC    Acrelândia       city        167       2     True   \n1  2020-06-10    AC  Assis Brasil       city         79       4     True   \n2  2020-06-10    AC     Brasiléia       city        176       5     True   \n3  2020-06-10    AC        Bujari       city         90       1     True   \n4  2020-06-10    AC      Capixaba       city         73       2     True   \n\n   estimated_population_2019  city_ibge_code  confirmed_per_100k_inhabitants  \\\n0                    15256.0       1200013.0                      1094.65128   \n1                     7417.0       1200054.0                      1065.12067   \n2                    26278.0       1200104.0                       669.76178   \n3                    10266.0       1200138.0                       876.68030   \n4                    11733.0       1200179.0                       622.17677   \n\n   death_rate  \n0      0.0120  \n1      0.0506  \n2      0.0284  \n3      0.0111  \n4      0.0274  ",
      "text/html": "<div>\n<style scoped>\n    .dataframe tbody tr th:only-of-type {\n        vertical-align: middle;\n    }\n\n    .dataframe tbody tr th {\n        vertical-align: top;\n    }\n\n    .dataframe thead th {\n        text-align: right;\n    }\n</style>\n<table border=\"1\" class=\"dataframe\">\n  <thead>\n    <tr style=\"text-align: right;\">\n      <th></th>\n      <th>date</th>\n      <th>state</th>\n      <th>city</th>\n      <th>place_type</th>\n      <th>confirmed</th>\n      <th>deaths</th>\n      <th>is_last</th>\n      <th>estimated_population_2019</th>\n      <th>city_ibge_code</th>\n      <th>confirmed_per_100k_inhabitants</th>\n      <th>death_rate</th>\n    </tr>\n  </thead>\n  <tbody>\n    <tr>\n      <th>0</th>\n      <td>2020-06-10</td>\n      <td>AC</td>\n      <td>Acrelândia</td>\n      <td>city</td>\n      <td>167</td>\n      <td>2</td>\n      <td>True</td>\n      <td>15256.0</td>\n      <td>1200013.0</td>\n      <td>1094.65128</td>\n      <td>0.0120</td>\n    </tr>\n    <tr>\n      <th>1</th>\n      <td>2020-06-10</td>\n      <td>AC</td>\n      <td>Assis Brasil</td>\n      <td>city</td>\n      <td>79</td>\n      <td>4</td>\n      <td>True</td>\n      <td>7417.0</td>\n      <td>1200054.0</td>\n      <td>1065.12067</td>\n      <td>0.0506</td>\n    </tr>\n    <tr>\n      <th>2</th>\n      <td>2020-06-10</td>\n      <td>AC</td>\n      <td>Brasiléia</td>\n      <td>city</td>\n      <td>176</td>\n      <td>5</td>\n      <td>True</td>\n      <td>26278.0</td>\n      <td>1200104.0</td>\n      <td>669.76178</td>\n      <td>0.0284</td>\n    </tr>\n    <tr>\n      <th>3</th>\n      <td>2020-06-10</td>\n      <td>AC</td>\n      <td>Bujari</td>\n      <td>city</td>\n      <td>90</td>\n      <td>1</td>\n      <td>True</td>\n      <td>10266.0</td>\n      <td>1200138.0</td>\n      <td>876.68030</td>\n      <td>0.0111</td>\n    </tr>\n    <tr>\n      <th>4</th>\n      <td>2020-06-10</td>\n      <td>AC</td>\n      <td>Capixaba</td>\n      <td>city</td>\n      <td>73</td>\n      <td>2</td>\n      <td>True</td>\n      <td>11733.0</td>\n      <td>1200179.0</td>\n      <td>622.17677</td>\n      <td>0.0274</td>\n    </tr>\n  </tbody>\n</table>\n</div>"
     },
     "metadata": {},
     "execution_count": 44
    }
   ],
   "source": [
    "filename = 'data/brazil_covid19_06_11.csv'\n",
    "\n",
    "df = pd.read_csv(filename)\n",
    "df.head()"
   ]
  },
  {
   "cell_type": "markdown",
   "metadata": {},
   "source": [
    "Select a particular state or city:"
   ]
  },
  {
   "cell_type": "code",
   "execution_count": 45,
   "metadata": {},
   "outputs": [],
   "source": [
    "df = df[ df['place_type'] == state_or_city]\n",
    "df = df[ df[state_or_city] == name ]\n",
    "\n",
    "df_I = df.groupby('date')[['confirmed']].sum()\n",
    "df_I.index = pd.to_datetime(df_I.index)\n",
    "today = df_I.index[-1] + timedelta(days=1)"
   ]
  },
  {
   "cell_type": "markdown",
   "metadata": {},
   "source": [
    "Last day of data used to run this notebook:"
   ]
  },
  {
   "cell_type": "code",
   "execution_count": 46,
   "metadata": {},
   "outputs": [
    {
     "output_type": "execute_result",
     "data": {
      "text/plain": "'06-10'"
     },
     "metadata": {},
     "execution_count": 46
    }
   ],
   "source": [
    "fit_until = df_I.index[-1].strftime('%m-%d')\n",
    "fit_until"
   ]
  },
  {
   "cell_type": "markdown",
   "metadata": {},
   "source": [
    "#### Population data combined with ICU adimission probability by age\n",
    "\n",
    "Data source: [IBGE](https://www.ibge.gov.br/apps/populacao/projecao/)."
   ]
  },
  {
   "cell_type": "code",
   "execution_count": 47,
   "metadata": {},
   "outputs": [],
   "source": [
    "# State of São Paulo\n",
    "file = 'data/pop_age_str_IBGE_2020_' + state + '.csv'\n",
    "\n",
    "# Other states\n",
    "# file = 'data/pop_age_str_IBGE_2020_' + name + '.csv'\n",
    "\n",
    "df_age = pd.read_csv(file)\n",
    "df_age.loc[0, 'Age'] = '00-04'\n",
    "df_age.loc[1, 'Age'] = '05-09'\n",
    "df_age['AGE_prob'] = df_age['Total'] / df_age['Total'].sum()\n",
    "\n",
    "# Selected state\n",
    "#pop0 = df_age['Total'].sum().item()"
   ]
  },
  {
   "cell_type": "code",
   "execution_count": 48,
   "metadata": {},
   "outputs": [],
   "source": [
    "df_age_ICU = pd.DataFrame(columns=['Age', 'ICU_prob'])\n",
    "df_age_ICU['Age'] = ['0-19', '20-44', '45-54', '55-64', '65-74', '75-84', '85+']\n",
    "df_age_ICU['ICU_prob'] = [0, 4.2, 10.4, 11.2, 18.8, 31, 29]"
   ]
  },
  {
   "cell_type": "code",
   "execution_count": 49,
   "metadata": {},
   "outputs": [],
   "source": [
    "ICU_prob = [0., 0., 0., 0., 0.042, \n",
    "            0.042, 0.042, 0.042, 0.042, 0.104,\n",
    "            0.104, 0.112, 0.112, 0.188, 0.188,\n",
    "            0.31, 0.31, 0.29, 0.29]\n",
    "\n",
    "df_age['ICU_prob'] = ICU_prob"
   ]
  },
  {
   "cell_type": "markdown",
   "metadata": {},
   "source": [
    "## Sampling from age-structed population probability and ICU admission probability\n",
    "\n",
    "Function to be used to performe both sampling over time."
   ]
  },
  {
   "cell_type": "code",
   "execution_count": 50,
   "metadata": {},
   "outputs": [],
   "source": [
    "def ICU_samp(df, n, n_samp_AGE_max= 1000, n_samp_AGE_min= 100, n_samp_ICU_max= 1000, n_samp_ICU_min= 100):\n",
    "\n",
    "    df_samp = pd.DataFrame(columns= df['Age'])\n",
    "\n",
    "    for j in range(n_samp_AGE_max):\n",
    "    \n",
    "        samp = np.random.choice(df['Age'], \n",
    "                                n, \n",
    "                                p= list(df['AGE_prob']) )\n",
    "\n",
    "        unique, counts = np.unique(samp, return_counts= True)\n",
    "    \n",
    "        for l in range(len(unique)):\n",
    "            df_samp.loc[j, unique[l]] = counts[l]\n",
    "\n",
    "\n",
    "    df_samp = df_samp.fillna(0)\n",
    "    df['n_mean'] = list(df_samp.mean(axis= 0))\n",
    "    df['n_std']  = list(df_samp.std(axis =0))\n",
    "\n",
    "    df = df.set_index('Age')\n",
    "\n",
    "    for age in df.index:\n",
    "    \n",
    "        aux_ = []\n",
    "\n",
    "        for j in range(n_samp_ICU_max):      \n",
    "    \n",
    "            samp = np.random.uniform(size= int(df.loc[age]['n_mean']))  \n",
    "            samp_ICU = samp < df.loc[age]['ICU_prob']\n",
    "            aux_.append(samp_ICU.sum())\n",
    "\n",
    "\n",
    "        df.loc[age, 'n_mean_ICU']  = np.mean(aux_)\n",
    "        df.loc[age, 'n_std_ICU']   = np.std(aux_)\n",
    "        \n",
    "    df['n_std_ICU'] = np.sqrt( df['n_std']**2 +  df['n_std_ICU']**2)\n",
    "    \n",
    "    return df"
   ]
  },
  {
   "cell_type": "markdown",
   "metadata": {},
   "source": [
    "Running the function over both scenarios:"
   ]
  },
  {
   "cell_type": "code",
   "execution_count": 51,
   "metadata": {},
   "outputs": [
    {
     "output_type": "execute_result",
     "data": {
      "text/plain": "            confirmed\ndate                 \n2020-04-06          1\n2020-04-07          1\n2020-04-08          1\n2020-04-09          2\n2020-04-10          4\n...               ...\n2020-06-06        224\n2020-06-07        228\n2020-06-08        226\n2020-06-09        236\n2020-06-10        239\n\n[66 rows x 1 columns]",
      "text/html": "<div>\n<style scoped>\n    .dataframe tbody tr th:only-of-type {\n        vertical-align: middle;\n    }\n\n    .dataframe tbody tr th {\n        vertical-align: top;\n    }\n\n    .dataframe thead th {\n        text-align: right;\n    }\n</style>\n<table border=\"1\" class=\"dataframe\">\n  <thead>\n    <tr style=\"text-align: right;\">\n      <th></th>\n      <th>confirmed</th>\n    </tr>\n    <tr>\n      <th>date</th>\n      <th></th>\n    </tr>\n  </thead>\n  <tbody>\n    <tr>\n      <th>2020-04-06</th>\n      <td>1</td>\n    </tr>\n    <tr>\n      <th>2020-04-07</th>\n      <td>1</td>\n    </tr>\n    <tr>\n      <th>2020-04-08</th>\n      <td>1</td>\n    </tr>\n    <tr>\n      <th>2020-04-09</th>\n      <td>2</td>\n    </tr>\n    <tr>\n      <th>2020-04-10</th>\n      <td>4</td>\n    </tr>\n    <tr>\n      <th>...</th>\n      <td>...</td>\n    </tr>\n    <tr>\n      <th>2020-06-06</th>\n      <td>224</td>\n    </tr>\n    <tr>\n      <th>2020-06-07</th>\n      <td>228</td>\n    </tr>\n    <tr>\n      <th>2020-06-08</th>\n      <td>226</td>\n    </tr>\n    <tr>\n      <th>2020-06-09</th>\n      <td>236</td>\n    </tr>\n    <tr>\n      <th>2020-06-10</th>\n      <td>239</td>\n    </tr>\n  </tbody>\n</table>\n<p>66 rows × 1 columns</p>\n</div>"
     },
     "metadata": {},
     "execution_count": 51
    }
   ],
   "source": [
    "df_I"
   ]
  },
  {
   "cell_type": "code",
   "execution_count": 36,
   "metadata": {},
   "outputs": [],
   "source": [
    "df1_ = []\n",
    "\n",
    "for j in range(len(df_I)):\n",
    "    \n",
    "    df1 = ICU_samp(df= df_age.reset_index(), \n",
    "                   n= df_I.iloc[j][0], \n",
    "                   n_samp_AGE_max= 100, n_samp_AGE_min= 100,\n",
    "                   n_samp_ICU_max= 100, n_samp_ICU_min= 100)\n",
    "\n",
    "    \n",
    "    df1_.append(df1)"
   ]
  },
  {
   "cell_type": "code",
   "execution_count": 37,
   "metadata": {},
   "outputs": [
    {
     "output_type": "execute_result",
     "data": {
      "text/plain": "       index    Total  AGE_prob  ICU_prob  n_mean     n_std  n_mean_ICU  \\\nAge                                                                       \n00-04      0  3038361  0.065638     0.000    0.07  0.256432         0.0   \n05-09      1  3042098  0.065719     0.000    0.08  0.272660         0.0   \n10-14      2  2957679  0.063895     0.000    0.04  0.196946         0.0   \n15-19      3  3127121  0.067556     0.000    0.07  0.256432         0.0   \n20-24      4  3448513  0.074499     0.042    0.07  0.256432         0.0   \n25-29      5  3511090  0.075851     0.042    0.10  0.301511         0.0   \n30-34      6  3809963  0.082308     0.042    0.10  0.301511         0.0   \n35-39      7  3854180  0.083263     0.042    0.07  0.256432         0.0   \n40-44      8  3548754  0.076665     0.042    0.05  0.219043         0.0   \n45-49      9  3141667  0.067870     0.104    0.04  0.196946         0.0   \n50-54     10  2904703  0.062751     0.104    0.09  0.287623         0.0   \n55-59     11  2632224  0.056865     0.112    0.07  0.256432         0.0   \n60-64     12  2266765  0.048969     0.112    0.06  0.238683         0.0   \n65-69     13  1780635  0.038468     0.188    0.07  0.256432         0.0   \n70-74     14  1297671  0.028034     0.188    0.01  0.100000         0.0   \n75-79     15   850465  0.018373     0.310    0.01  0.100000         0.0   \n80-84     16   562367  0.012149     0.310    0.00  0.000000         0.0   \n85-89     17   309125  0.006678     0.290    0.00  0.000000         0.0   \n90+       18   205952  0.004449     0.290    0.00  0.000000         0.0   \n\n       n_std_ICU  \nAge               \n00-04   0.256432  \n05-09   0.272660  \n10-14   0.196946  \n15-19   0.256432  \n20-24   0.256432  \n25-29   0.301511  \n30-34   0.301511  \n35-39   0.256432  \n40-44   0.219043  \n45-49   0.196946  \n50-54   0.287623  \n55-59   0.256432  \n60-64   0.238683  \n65-69   0.256432  \n70-74   0.100000  \n75-79   0.100000  \n80-84   0.000000  \n85-89   0.000000  \n90+     0.000000  ",
      "text/html": "<div>\n<style scoped>\n    .dataframe tbody tr th:only-of-type {\n        vertical-align: middle;\n    }\n\n    .dataframe tbody tr th {\n        vertical-align: top;\n    }\n\n    .dataframe thead th {\n        text-align: right;\n    }\n</style>\n<table border=\"1\" class=\"dataframe\">\n  <thead>\n    <tr style=\"text-align: right;\">\n      <th></th>\n      <th>index</th>\n      <th>Total</th>\n      <th>AGE_prob</th>\n      <th>ICU_prob</th>\n      <th>n_mean</th>\n      <th>n_std</th>\n      <th>n_mean_ICU</th>\n      <th>n_std_ICU</th>\n    </tr>\n    <tr>\n      <th>Age</th>\n      <th></th>\n      <th></th>\n      <th></th>\n      <th></th>\n      <th></th>\n      <th></th>\n      <th></th>\n      <th></th>\n    </tr>\n  </thead>\n  <tbody>\n    <tr>\n      <th>00-04</th>\n      <td>0</td>\n      <td>3038361</td>\n      <td>0.065638</td>\n      <td>0.000</td>\n      <td>0.07</td>\n      <td>0.256432</td>\n      <td>0.0</td>\n      <td>0.256432</td>\n    </tr>\n    <tr>\n      <th>05-09</th>\n      <td>1</td>\n      <td>3042098</td>\n      <td>0.065719</td>\n      <td>0.000</td>\n      <td>0.08</td>\n      <td>0.272660</td>\n      <td>0.0</td>\n      <td>0.272660</td>\n    </tr>\n    <tr>\n      <th>10-14</th>\n      <td>2</td>\n      <td>2957679</td>\n      <td>0.063895</td>\n      <td>0.000</td>\n      <td>0.04</td>\n      <td>0.196946</td>\n      <td>0.0</td>\n      <td>0.196946</td>\n    </tr>\n    <tr>\n      <th>15-19</th>\n      <td>3</td>\n      <td>3127121</td>\n      <td>0.067556</td>\n      <td>0.000</td>\n      <td>0.07</td>\n      <td>0.256432</td>\n      <td>0.0</td>\n      <td>0.256432</td>\n    </tr>\n    <tr>\n      <th>20-24</th>\n      <td>4</td>\n      <td>3448513</td>\n      <td>0.074499</td>\n      <td>0.042</td>\n      <td>0.07</td>\n      <td>0.256432</td>\n      <td>0.0</td>\n      <td>0.256432</td>\n    </tr>\n    <tr>\n      <th>25-29</th>\n      <td>5</td>\n      <td>3511090</td>\n      <td>0.075851</td>\n      <td>0.042</td>\n      <td>0.10</td>\n      <td>0.301511</td>\n      <td>0.0</td>\n      <td>0.301511</td>\n    </tr>\n    <tr>\n      <th>30-34</th>\n      <td>6</td>\n      <td>3809963</td>\n      <td>0.082308</td>\n      <td>0.042</td>\n      <td>0.10</td>\n      <td>0.301511</td>\n      <td>0.0</td>\n      <td>0.301511</td>\n    </tr>\n    <tr>\n      <th>35-39</th>\n      <td>7</td>\n      <td>3854180</td>\n      <td>0.083263</td>\n      <td>0.042</td>\n      <td>0.07</td>\n      <td>0.256432</td>\n      <td>0.0</td>\n      <td>0.256432</td>\n    </tr>\n    <tr>\n      <th>40-44</th>\n      <td>8</td>\n      <td>3548754</td>\n      <td>0.076665</td>\n      <td>0.042</td>\n      <td>0.05</td>\n      <td>0.219043</td>\n      <td>0.0</td>\n      <td>0.219043</td>\n    </tr>\n    <tr>\n      <th>45-49</th>\n      <td>9</td>\n      <td>3141667</td>\n      <td>0.067870</td>\n      <td>0.104</td>\n      <td>0.04</td>\n      <td>0.196946</td>\n      <td>0.0</td>\n      <td>0.196946</td>\n    </tr>\n    <tr>\n      <th>50-54</th>\n      <td>10</td>\n      <td>2904703</td>\n      <td>0.062751</td>\n      <td>0.104</td>\n      <td>0.09</td>\n      <td>0.287623</td>\n      <td>0.0</td>\n      <td>0.287623</td>\n    </tr>\n    <tr>\n      <th>55-59</th>\n      <td>11</td>\n      <td>2632224</td>\n      <td>0.056865</td>\n      <td>0.112</td>\n      <td>0.07</td>\n      <td>0.256432</td>\n      <td>0.0</td>\n      <td>0.256432</td>\n    </tr>\n    <tr>\n      <th>60-64</th>\n      <td>12</td>\n      <td>2266765</td>\n      <td>0.048969</td>\n      <td>0.112</td>\n      <td>0.06</td>\n      <td>0.238683</td>\n      <td>0.0</td>\n      <td>0.238683</td>\n    </tr>\n    <tr>\n      <th>65-69</th>\n      <td>13</td>\n      <td>1780635</td>\n      <td>0.038468</td>\n      <td>0.188</td>\n      <td>0.07</td>\n      <td>0.256432</td>\n      <td>0.0</td>\n      <td>0.256432</td>\n    </tr>\n    <tr>\n      <th>70-74</th>\n      <td>14</td>\n      <td>1297671</td>\n      <td>0.028034</td>\n      <td>0.188</td>\n      <td>0.01</td>\n      <td>0.100000</td>\n      <td>0.0</td>\n      <td>0.100000</td>\n    </tr>\n    <tr>\n      <th>75-79</th>\n      <td>15</td>\n      <td>850465</td>\n      <td>0.018373</td>\n      <td>0.310</td>\n      <td>0.01</td>\n      <td>0.100000</td>\n      <td>0.0</td>\n      <td>0.100000</td>\n    </tr>\n    <tr>\n      <th>80-84</th>\n      <td>16</td>\n      <td>562367</td>\n      <td>0.012149</td>\n      <td>0.310</td>\n      <td>0.00</td>\n      <td>0.000000</td>\n      <td>0.0</td>\n      <td>0.000000</td>\n    </tr>\n    <tr>\n      <th>85-89</th>\n      <td>17</td>\n      <td>309125</td>\n      <td>0.006678</td>\n      <td>0.290</td>\n      <td>0.00</td>\n      <td>0.000000</td>\n      <td>0.0</td>\n      <td>0.000000</td>\n    </tr>\n    <tr>\n      <th>90+</th>\n      <td>18</td>\n      <td>205952</td>\n      <td>0.004449</td>\n      <td>0.290</td>\n      <td>0.00</td>\n      <td>0.000000</td>\n      <td>0.0</td>\n      <td>0.000000</td>\n    </tr>\n  </tbody>\n</table>\n</div>"
     },
     "metadata": {},
     "execution_count": 37
    }
   ],
   "source": [
    "df1_[0]"
   ]
  },
  {
   "cell_type": "code",
   "execution_count": null,
   "metadata": {},
   "outputs": [],
   "source": []
  },
  {
   "cell_type": "markdown",
   "metadata": {},
   "source": [
    "### Taking into account removal from ICU after `T_ICU` days"
   ]
  },
  {
   "cell_type": "code",
   "execution_count": 20,
   "metadata": {},
   "outputs": [],
   "source": [
    "def correction(x, df_, T_ICU= 14):\n",
    "\n",
    "    df_[x]['n_mean_ICU_cor'] = 0.\n",
    "    df_[x]['n_std_ICU_cor'] = 0.\n",
    "    \n",
    "    if x <= T_ICU:\n",
    "                   \n",
    "        df_[x]['n_mean_ICU_cor'] = df_[x]['n_mean_ICU']\n",
    "        df_[x]['n_std_ICU_cor']   = df_[x]['n_std_ICU']\n",
    "             \n",
    "    else:\n",
    "        \n",
    "        delta = df_[x]['n_mean_ICU'] - df_[x - T_ICU]['n_mean_ICU']\n",
    "        \n",
    "        df_[x]['n_mean_ICU_cor'] = np.heaviside(delta, 0) * delta\n",
    "        df_[x]['n_std_ICU_cor']  = np.sqrt(df_[x]['n_std_ICU']**2 + df_[x - T_ICU]['n_std_ICU']**2)"
   ]
  },
  {
   "cell_type": "code",
   "execution_count": 25,
   "metadata": {},
   "outputs": [
    {
     "output_type": "execute_result",
     "data": {
      "text/plain": "       index    Total  AGE_prob  ICU_prob  n_mean     n_std  n_mean_ICU  \\\nAge                                                                       \n00-04      0  3038361  0.065638     0.000    4.59  1.969951        0.00   \n05-09      1  3042098  0.065719     0.000    4.17  2.040276        0.00   \n10-14      2  2957679  0.063895     0.000    4.22  1.982652        0.00   \n15-19      3  3127121  0.067556     0.000    4.45  1.961112        0.00   \n20-24      4  3448513  0.074499     0.042    4.66  1.902789        0.15   \n25-29      5  3511090  0.075851     0.042    5.11  2.159756        0.21   \n30-34      6  3809963  0.082308     0.042    5.94  2.255498        0.19   \n35-39      7  3854180  0.083263     0.042    5.09  2.256730        0.24   \n40-44      8  3548754  0.076665     0.042    5.03  2.185605        0.23   \n45-49      9  3141667  0.067870     0.104    4.14  1.758213        0.47   \n50-54     10  2904703  0.062751     0.104    4.09  2.127715        0.46   \n55-59     11  2632224  0.056865     0.112    3.90  2.042478        0.34   \n60-64     12  2266765  0.048969     0.112    3.25  1.653738        0.34   \n65-69     13  1780635  0.038468     0.188    2.60  1.392621        0.39   \n70-74     14  1297671  0.028034     0.188    1.74  1.411497        0.13   \n75-79     15   850465  0.018373     0.310    1.35  1.157976        0.29   \n80-84     16   562367  0.012149     0.310    0.92  1.070070        0.00   \n85-89     17   309125  0.006678     0.290    0.37  0.613896        0.00   \n90+       18   205952  0.004449     0.290    0.38  0.599326        0.00   \n\n       n_std_ICU  n_mean_ICU_cor  n_std_ICU_cor  \nAge                                              \n00-04   1.969951            0.00       2.196301  \n05-09   2.040276            0.00       2.234486  \n10-14   1.982652            0.00       2.203762  \n15-19   1.961112            0.00       2.186968  \n20-24   1.941161            0.14       2.129691  \n25-29   2.206909            0.21       2.431972  \n30-34   2.293725            0.14       2.487278  \n35-39   2.301136            0.19       2.568595  \n40-44   2.234719            0.17       2.436313  \n45-49   1.876276            0.47       2.099738  \n50-54   2.221615            0.46       2.351921  \n55-59   2.115684            0.34       2.290176  \n60-64   1.726050            0.34       1.900387  \n65-69   1.509071            0.39       1.733689  \n70-74   1.451008            0.13       1.596166  \n75-79   1.243708            0.29       1.342296  \n80-84   1.070070            0.00       1.128644  \n85-89   0.613896            0.00       0.651804  \n90+     0.599326            0.00       0.651882  ",
      "text/html": "<div>\n<style scoped>\n    .dataframe tbody tr th:only-of-type {\n        vertical-align: middle;\n    }\n\n    .dataframe tbody tr th {\n        vertical-align: top;\n    }\n\n    .dataframe thead th {\n        text-align: right;\n    }\n</style>\n<table border=\"1\" class=\"dataframe\">\n  <thead>\n    <tr style=\"text-align: right;\">\n      <th></th>\n      <th>index</th>\n      <th>Total</th>\n      <th>AGE_prob</th>\n      <th>ICU_prob</th>\n      <th>n_mean</th>\n      <th>n_std</th>\n      <th>n_mean_ICU</th>\n      <th>n_std_ICU</th>\n      <th>n_mean_ICU_cor</th>\n      <th>n_std_ICU_cor</th>\n    </tr>\n    <tr>\n      <th>Age</th>\n      <th></th>\n      <th></th>\n      <th></th>\n      <th></th>\n      <th></th>\n      <th></th>\n      <th></th>\n      <th></th>\n      <th></th>\n      <th></th>\n    </tr>\n  </thead>\n  <tbody>\n    <tr>\n      <th>00-04</th>\n      <td>0</td>\n      <td>3038361</td>\n      <td>0.065638</td>\n      <td>0.000</td>\n      <td>4.59</td>\n      <td>1.969951</td>\n      <td>0.00</td>\n      <td>1.969951</td>\n      <td>0.00</td>\n      <td>2.196301</td>\n    </tr>\n    <tr>\n      <th>05-09</th>\n      <td>1</td>\n      <td>3042098</td>\n      <td>0.065719</td>\n      <td>0.000</td>\n      <td>4.17</td>\n      <td>2.040276</td>\n      <td>0.00</td>\n      <td>2.040276</td>\n      <td>0.00</td>\n      <td>2.234486</td>\n    </tr>\n    <tr>\n      <th>10-14</th>\n      <td>2</td>\n      <td>2957679</td>\n      <td>0.063895</td>\n      <td>0.000</td>\n      <td>4.22</td>\n      <td>1.982652</td>\n      <td>0.00</td>\n      <td>1.982652</td>\n      <td>0.00</td>\n      <td>2.203762</td>\n    </tr>\n    <tr>\n      <th>15-19</th>\n      <td>3</td>\n      <td>3127121</td>\n      <td>0.067556</td>\n      <td>0.000</td>\n      <td>4.45</td>\n      <td>1.961112</td>\n      <td>0.00</td>\n      <td>1.961112</td>\n      <td>0.00</td>\n      <td>2.186968</td>\n    </tr>\n    <tr>\n      <th>20-24</th>\n      <td>4</td>\n      <td>3448513</td>\n      <td>0.074499</td>\n      <td>0.042</td>\n      <td>4.66</td>\n      <td>1.902789</td>\n      <td>0.15</td>\n      <td>1.941161</td>\n      <td>0.14</td>\n      <td>2.129691</td>\n    </tr>\n    <tr>\n      <th>25-29</th>\n      <td>5</td>\n      <td>3511090</td>\n      <td>0.075851</td>\n      <td>0.042</td>\n      <td>5.11</td>\n      <td>2.159756</td>\n      <td>0.21</td>\n      <td>2.206909</td>\n      <td>0.21</td>\n      <td>2.431972</td>\n    </tr>\n    <tr>\n      <th>30-34</th>\n      <td>6</td>\n      <td>3809963</td>\n      <td>0.082308</td>\n      <td>0.042</td>\n      <td>5.94</td>\n      <td>2.255498</td>\n      <td>0.19</td>\n      <td>2.293725</td>\n      <td>0.14</td>\n      <td>2.487278</td>\n    </tr>\n    <tr>\n      <th>35-39</th>\n      <td>7</td>\n      <td>3854180</td>\n      <td>0.083263</td>\n      <td>0.042</td>\n      <td>5.09</td>\n      <td>2.256730</td>\n      <td>0.24</td>\n      <td>2.301136</td>\n      <td>0.19</td>\n      <td>2.568595</td>\n    </tr>\n    <tr>\n      <th>40-44</th>\n      <td>8</td>\n      <td>3548754</td>\n      <td>0.076665</td>\n      <td>0.042</td>\n      <td>5.03</td>\n      <td>2.185605</td>\n      <td>0.23</td>\n      <td>2.234719</td>\n      <td>0.17</td>\n      <td>2.436313</td>\n    </tr>\n    <tr>\n      <th>45-49</th>\n      <td>9</td>\n      <td>3141667</td>\n      <td>0.067870</td>\n      <td>0.104</td>\n      <td>4.14</td>\n      <td>1.758213</td>\n      <td>0.47</td>\n      <td>1.876276</td>\n      <td>0.47</td>\n      <td>2.099738</td>\n    </tr>\n    <tr>\n      <th>50-54</th>\n      <td>10</td>\n      <td>2904703</td>\n      <td>0.062751</td>\n      <td>0.104</td>\n      <td>4.09</td>\n      <td>2.127715</td>\n      <td>0.46</td>\n      <td>2.221615</td>\n      <td>0.46</td>\n      <td>2.351921</td>\n    </tr>\n    <tr>\n      <th>55-59</th>\n      <td>11</td>\n      <td>2632224</td>\n      <td>0.056865</td>\n      <td>0.112</td>\n      <td>3.90</td>\n      <td>2.042478</td>\n      <td>0.34</td>\n      <td>2.115684</td>\n      <td>0.34</td>\n      <td>2.290176</td>\n    </tr>\n    <tr>\n      <th>60-64</th>\n      <td>12</td>\n      <td>2266765</td>\n      <td>0.048969</td>\n      <td>0.112</td>\n      <td>3.25</td>\n      <td>1.653738</td>\n      <td>0.34</td>\n      <td>1.726050</td>\n      <td>0.34</td>\n      <td>1.900387</td>\n    </tr>\n    <tr>\n      <th>65-69</th>\n      <td>13</td>\n      <td>1780635</td>\n      <td>0.038468</td>\n      <td>0.188</td>\n      <td>2.60</td>\n      <td>1.392621</td>\n      <td>0.39</td>\n      <td>1.509071</td>\n      <td>0.39</td>\n      <td>1.733689</td>\n    </tr>\n    <tr>\n      <th>70-74</th>\n      <td>14</td>\n      <td>1297671</td>\n      <td>0.028034</td>\n      <td>0.188</td>\n      <td>1.74</td>\n      <td>1.411497</td>\n      <td>0.13</td>\n      <td>1.451008</td>\n      <td>0.13</td>\n      <td>1.596166</td>\n    </tr>\n    <tr>\n      <th>75-79</th>\n      <td>15</td>\n      <td>850465</td>\n      <td>0.018373</td>\n      <td>0.310</td>\n      <td>1.35</td>\n      <td>1.157976</td>\n      <td>0.29</td>\n      <td>1.243708</td>\n      <td>0.29</td>\n      <td>1.342296</td>\n    </tr>\n    <tr>\n      <th>80-84</th>\n      <td>16</td>\n      <td>562367</td>\n      <td>0.012149</td>\n      <td>0.310</td>\n      <td>0.92</td>\n      <td>1.070070</td>\n      <td>0.00</td>\n      <td>1.070070</td>\n      <td>0.00</td>\n      <td>1.128644</td>\n    </tr>\n    <tr>\n      <th>85-89</th>\n      <td>17</td>\n      <td>309125</td>\n      <td>0.006678</td>\n      <td>0.290</td>\n      <td>0.37</td>\n      <td>0.613896</td>\n      <td>0.00</td>\n      <td>0.613896</td>\n      <td>0.00</td>\n      <td>0.651804</td>\n    </tr>\n    <tr>\n      <th>90+</th>\n      <td>18</td>\n      <td>205952</td>\n      <td>0.004449</td>\n      <td>0.290</td>\n      <td>0.38</td>\n      <td>0.599326</td>\n      <td>0.00</td>\n      <td>0.599326</td>\n      <td>0.00</td>\n      <td>0.651882</td>\n    </tr>\n  </tbody>\n</table>\n</div>"
     },
     "metadata": {},
     "execution_count": 25
    }
   ],
   "source": [
    "df1_[40]"
   ]
  },
  {
   "cell_type": "code",
   "execution_count": null,
   "metadata": {},
   "outputs": [],
   "source": []
  },
  {
   "cell_type": "code",
   "execution_count": null,
   "metadata": {},
   "outputs": [],
   "source": []
  },
  {
   "cell_type": "code",
   "execution_count": 23,
   "metadata": {},
   "outputs": [],
   "source": [
    "T_ICU = 14\n",
    "\n",
    "for x in range(len(df1_)):\n",
    "    \n",
    "    correction(x, df_= df1_, T_ICU= T_ICU)"
   ]
  },
  {
   "cell_type": "code",
   "execution_count": 40,
   "metadata": {},
   "outputs": [
    {
     "output_type": "execute_result",
     "data": {
      "text/plain": "       index    Total  AGE_prob  ICU_prob  n_mean     n_std  n_mean_ICU  \\\nAge                                                                       \n00-04      0  3038361  0.065638     0.000    5.59  2.554833        0.00   \n05-09      1  3042098  0.065719     0.000    5.42  2.175065        0.00   \n10-14      2  2957679  0.063895     0.000    5.36  2.426787        0.00   \n15-19      3  3127121  0.067556     0.000    5.71  2.166294        0.00   \n20-24      4  3448513  0.074499     0.042    5.92  2.218745        0.16   \n25-29      5  3511090  0.075851     0.042    6.22  2.451880        0.27   \n30-34      6  3809963  0.082308     0.042    7.05  2.426183        0.29   \n35-39      7  3854180  0.083263     0.042    7.45  2.442780        0.30   \n40-44      8  3548754  0.076665     0.042    6.63  2.158633        0.27   \n45-49      9  3141667  0.067870     0.104    5.84  2.561250        0.42   \n50-54     10  2904703  0.062751     0.104    5.10  2.100986        0.40   \n55-59     11  2632224  0.056865     0.112    5.35  2.417842        0.56   \n60-64     12  2266765  0.048969     0.112    4.14  1.740893        0.29   \n65-69     13  1780635  0.038468     0.188    3.09  2.020576        0.51   \n70-74     14  1297671  0.028034     0.188    2.57  1.485655        0.42   \n75-79     15   850465  0.018373     0.310    1.61  1.369915        0.34   \n80-84     16   562367  0.012149     0.310    1.03  1.184538        0.30   \n85-89     17   309125  0.006678     0.290    0.56  0.769625        0.00   \n90+       18   205952  0.004449     0.290    0.36  0.643852        0.00   \n\n       n_std_ICU  \nAge               \n00-04   2.554833  \n05-09   2.175065  \n10-14   2.426787  \n15-19   2.166294  \n20-24   2.257704  \n25-29   2.499763  \n30-34   2.492441  \n35-39   2.509417  \n40-44   2.212871  \n45-49   2.638863  \n50-54   2.171207  \n55-59   2.504468  \n60-64   1.815656  \n65-69   2.114859  \n70-74   1.584541  \n75-79   1.449506  \n80-84   1.270091  \n85-89   0.769625  \n90+     0.643852  ",
      "text/html": "<div>\n<style scoped>\n    .dataframe tbody tr th:only-of-type {\n        vertical-align: middle;\n    }\n\n    .dataframe tbody tr th {\n        vertical-align: top;\n    }\n\n    .dataframe thead th {\n        text-align: right;\n    }\n</style>\n<table border=\"1\" class=\"dataframe\">\n  <thead>\n    <tr style=\"text-align: right;\">\n      <th></th>\n      <th>index</th>\n      <th>Total</th>\n      <th>AGE_prob</th>\n      <th>ICU_prob</th>\n      <th>n_mean</th>\n      <th>n_std</th>\n      <th>n_mean_ICU</th>\n      <th>n_std_ICU</th>\n    </tr>\n    <tr>\n      <th>Age</th>\n      <th></th>\n      <th></th>\n      <th></th>\n      <th></th>\n      <th></th>\n      <th></th>\n      <th></th>\n      <th></th>\n    </tr>\n  </thead>\n  <tbody>\n    <tr>\n      <th>00-04</th>\n      <td>0</td>\n      <td>3038361</td>\n      <td>0.065638</td>\n      <td>0.000</td>\n      <td>5.59</td>\n      <td>2.554833</td>\n      <td>0.00</td>\n      <td>2.554833</td>\n    </tr>\n    <tr>\n      <th>05-09</th>\n      <td>1</td>\n      <td>3042098</td>\n      <td>0.065719</td>\n      <td>0.000</td>\n      <td>5.42</td>\n      <td>2.175065</td>\n      <td>0.00</td>\n      <td>2.175065</td>\n    </tr>\n    <tr>\n      <th>10-14</th>\n      <td>2</td>\n      <td>2957679</td>\n      <td>0.063895</td>\n      <td>0.000</td>\n      <td>5.36</td>\n      <td>2.426787</td>\n      <td>0.00</td>\n      <td>2.426787</td>\n    </tr>\n    <tr>\n      <th>15-19</th>\n      <td>3</td>\n      <td>3127121</td>\n      <td>0.067556</td>\n      <td>0.000</td>\n      <td>5.71</td>\n      <td>2.166294</td>\n      <td>0.00</td>\n      <td>2.166294</td>\n    </tr>\n    <tr>\n      <th>20-24</th>\n      <td>4</td>\n      <td>3448513</td>\n      <td>0.074499</td>\n      <td>0.042</td>\n      <td>5.92</td>\n      <td>2.218745</td>\n      <td>0.16</td>\n      <td>2.257704</td>\n    </tr>\n    <tr>\n      <th>25-29</th>\n      <td>5</td>\n      <td>3511090</td>\n      <td>0.075851</td>\n      <td>0.042</td>\n      <td>6.22</td>\n      <td>2.451880</td>\n      <td>0.27</td>\n      <td>2.499763</td>\n    </tr>\n    <tr>\n      <th>30-34</th>\n      <td>6</td>\n      <td>3809963</td>\n      <td>0.082308</td>\n      <td>0.042</td>\n      <td>7.05</td>\n      <td>2.426183</td>\n      <td>0.29</td>\n      <td>2.492441</td>\n    </tr>\n    <tr>\n      <th>35-39</th>\n      <td>7</td>\n      <td>3854180</td>\n      <td>0.083263</td>\n      <td>0.042</td>\n      <td>7.45</td>\n      <td>2.442780</td>\n      <td>0.30</td>\n      <td>2.509417</td>\n    </tr>\n    <tr>\n      <th>40-44</th>\n      <td>8</td>\n      <td>3548754</td>\n      <td>0.076665</td>\n      <td>0.042</td>\n      <td>6.63</td>\n      <td>2.158633</td>\n      <td>0.27</td>\n      <td>2.212871</td>\n    </tr>\n    <tr>\n      <th>45-49</th>\n      <td>9</td>\n      <td>3141667</td>\n      <td>0.067870</td>\n      <td>0.104</td>\n      <td>5.84</td>\n      <td>2.561250</td>\n      <td>0.42</td>\n      <td>2.638863</td>\n    </tr>\n    <tr>\n      <th>50-54</th>\n      <td>10</td>\n      <td>2904703</td>\n      <td>0.062751</td>\n      <td>0.104</td>\n      <td>5.10</td>\n      <td>2.100986</td>\n      <td>0.40</td>\n      <td>2.171207</td>\n    </tr>\n    <tr>\n      <th>55-59</th>\n      <td>11</td>\n      <td>2632224</td>\n      <td>0.056865</td>\n      <td>0.112</td>\n      <td>5.35</td>\n      <td>2.417842</td>\n      <td>0.56</td>\n      <td>2.504468</td>\n    </tr>\n    <tr>\n      <th>60-64</th>\n      <td>12</td>\n      <td>2266765</td>\n      <td>0.048969</td>\n      <td>0.112</td>\n      <td>4.14</td>\n      <td>1.740893</td>\n      <td>0.29</td>\n      <td>1.815656</td>\n    </tr>\n    <tr>\n      <th>65-69</th>\n      <td>13</td>\n      <td>1780635</td>\n      <td>0.038468</td>\n      <td>0.188</td>\n      <td>3.09</td>\n      <td>2.020576</td>\n      <td>0.51</td>\n      <td>2.114859</td>\n    </tr>\n    <tr>\n      <th>70-74</th>\n      <td>14</td>\n      <td>1297671</td>\n      <td>0.028034</td>\n      <td>0.188</td>\n      <td>2.57</td>\n      <td>1.485655</td>\n      <td>0.42</td>\n      <td>1.584541</td>\n    </tr>\n    <tr>\n      <th>75-79</th>\n      <td>15</td>\n      <td>850465</td>\n      <td>0.018373</td>\n      <td>0.310</td>\n      <td>1.61</td>\n      <td>1.369915</td>\n      <td>0.34</td>\n      <td>1.449506</td>\n    </tr>\n    <tr>\n      <th>80-84</th>\n      <td>16</td>\n      <td>562367</td>\n      <td>0.012149</td>\n      <td>0.310</td>\n      <td>1.03</td>\n      <td>1.184538</td>\n      <td>0.30</td>\n      <td>1.270091</td>\n    </tr>\n    <tr>\n      <th>85-89</th>\n      <td>17</td>\n      <td>309125</td>\n      <td>0.006678</td>\n      <td>0.290</td>\n      <td>0.56</td>\n      <td>0.769625</td>\n      <td>0.00</td>\n      <td>0.769625</td>\n    </tr>\n    <tr>\n      <th>90+</th>\n      <td>18</td>\n      <td>205952</td>\n      <td>0.004449</td>\n      <td>0.290</td>\n      <td>0.36</td>\n      <td>0.643852</td>\n      <td>0.00</td>\n      <td>0.643852</td>\n    </tr>\n  </tbody>\n</table>\n</div>"
     },
     "metadata": {},
     "execution_count": 40
    }
   ],
   "source": [
    "df1_[45]"
   ]
  },
  {
   "cell_type": "markdown",
   "metadata": {},
   "source": [
    "## Collecting daily averages\n",
    "\n",
    "Given a list `df_` of dataframes, the function `daily_av` collect averages of collumns values over a `timeseries_data` period. The return is a daaframe called `df_ICU`."
   ]
  },
  {
   "cell_type": "code",
   "execution_count": null,
   "metadata": {},
   "outputs": [],
   "source": [
    "for "
   ]
  },
  {
   "cell_type": "code",
   "execution_count": 52,
   "metadata": {},
   "outputs": [
    {
     "output_type": "execute_result",
     "data": {
      "text/plain": "       index    Total  AGE_prob  ICU_prob  n_mean     n_std  n_mean_ICU  \\\nAge                                                                       \n00-04      0  3038361  0.065638     0.000    0.07  0.256432         0.0   \n05-09      1  3042098  0.065719     0.000    0.08  0.272660         0.0   \n10-14      2  2957679  0.063895     0.000    0.04  0.196946         0.0   \n15-19      3  3127121  0.067556     0.000    0.07  0.256432         0.0   \n20-24      4  3448513  0.074499     0.042    0.07  0.256432         0.0   \n25-29      5  3511090  0.075851     0.042    0.10  0.301511         0.0   \n30-34      6  3809963  0.082308     0.042    0.10  0.301511         0.0   \n35-39      7  3854180  0.083263     0.042    0.07  0.256432         0.0   \n40-44      8  3548754  0.076665     0.042    0.05  0.219043         0.0   \n45-49      9  3141667  0.067870     0.104    0.04  0.196946         0.0   \n50-54     10  2904703  0.062751     0.104    0.09  0.287623         0.0   \n55-59     11  2632224  0.056865     0.112    0.07  0.256432         0.0   \n60-64     12  2266765  0.048969     0.112    0.06  0.238683         0.0   \n65-69     13  1780635  0.038468     0.188    0.07  0.256432         0.0   \n70-74     14  1297671  0.028034     0.188    0.01  0.100000         0.0   \n75-79     15   850465  0.018373     0.310    0.01  0.100000         0.0   \n80-84     16   562367  0.012149     0.310    0.00  0.000000         0.0   \n85-89     17   309125  0.006678     0.290    0.00  0.000000         0.0   \n90+       18   205952  0.004449     0.290    0.00  0.000000         0.0   \n\n       n_std_ICU  \nAge               \n00-04   0.256432  \n05-09   0.272660  \n10-14   0.196946  \n15-19   0.256432  \n20-24   0.256432  \n25-29   0.301511  \n30-34   0.301511  \n35-39   0.256432  \n40-44   0.219043  \n45-49   0.196946  \n50-54   0.287623  \n55-59   0.256432  \n60-64   0.238683  \n65-69   0.256432  \n70-74   0.100000  \n75-79   0.100000  \n80-84   0.000000  \n85-89   0.000000  \n90+     0.000000  ",
      "text/html": "<div>\n<style scoped>\n    .dataframe tbody tr th:only-of-type {\n        vertical-align: middle;\n    }\n\n    .dataframe tbody tr th {\n        vertical-align: top;\n    }\n\n    .dataframe thead th {\n        text-align: right;\n    }\n</style>\n<table border=\"1\" class=\"dataframe\">\n  <thead>\n    <tr style=\"text-align: right;\">\n      <th></th>\n      <th>index</th>\n      <th>Total</th>\n      <th>AGE_prob</th>\n      <th>ICU_prob</th>\n      <th>n_mean</th>\n      <th>n_std</th>\n      <th>n_mean_ICU</th>\n      <th>n_std_ICU</th>\n    </tr>\n    <tr>\n      <th>Age</th>\n      <th></th>\n      <th></th>\n      <th></th>\n      <th></th>\n      <th></th>\n      <th></th>\n      <th></th>\n      <th></th>\n    </tr>\n  </thead>\n  <tbody>\n    <tr>\n      <th>00-04</th>\n      <td>0</td>\n      <td>3038361</td>\n      <td>0.065638</td>\n      <td>0.000</td>\n      <td>0.07</td>\n      <td>0.256432</td>\n      <td>0.0</td>\n      <td>0.256432</td>\n    </tr>\n    <tr>\n      <th>05-09</th>\n      <td>1</td>\n      <td>3042098</td>\n      <td>0.065719</td>\n      <td>0.000</td>\n      <td>0.08</td>\n      <td>0.272660</td>\n      <td>0.0</td>\n      <td>0.272660</td>\n    </tr>\n    <tr>\n      <th>10-14</th>\n      <td>2</td>\n      <td>2957679</td>\n      <td>0.063895</td>\n      <td>0.000</td>\n      <td>0.04</td>\n      <td>0.196946</td>\n      <td>0.0</td>\n      <td>0.196946</td>\n    </tr>\n    <tr>\n      <th>15-19</th>\n      <td>3</td>\n      <td>3127121</td>\n      <td>0.067556</td>\n      <td>0.000</td>\n      <td>0.07</td>\n      <td>0.256432</td>\n      <td>0.0</td>\n      <td>0.256432</td>\n    </tr>\n    <tr>\n      <th>20-24</th>\n      <td>4</td>\n      <td>3448513</td>\n      <td>0.074499</td>\n      <td>0.042</td>\n      <td>0.07</td>\n      <td>0.256432</td>\n      <td>0.0</td>\n      <td>0.256432</td>\n    </tr>\n    <tr>\n      <th>25-29</th>\n      <td>5</td>\n      <td>3511090</td>\n      <td>0.075851</td>\n      <td>0.042</td>\n      <td>0.10</td>\n      <td>0.301511</td>\n      <td>0.0</td>\n      <td>0.301511</td>\n    </tr>\n    <tr>\n      <th>30-34</th>\n      <td>6</td>\n      <td>3809963</td>\n      <td>0.082308</td>\n      <td>0.042</td>\n      <td>0.10</td>\n      <td>0.301511</td>\n      <td>0.0</td>\n      <td>0.301511</td>\n    </tr>\n    <tr>\n      <th>35-39</th>\n      <td>7</td>\n      <td>3854180</td>\n      <td>0.083263</td>\n      <td>0.042</td>\n      <td>0.07</td>\n      <td>0.256432</td>\n      <td>0.0</td>\n      <td>0.256432</td>\n    </tr>\n    <tr>\n      <th>40-44</th>\n      <td>8</td>\n      <td>3548754</td>\n      <td>0.076665</td>\n      <td>0.042</td>\n      <td>0.05</td>\n      <td>0.219043</td>\n      <td>0.0</td>\n      <td>0.219043</td>\n    </tr>\n    <tr>\n      <th>45-49</th>\n      <td>9</td>\n      <td>3141667</td>\n      <td>0.067870</td>\n      <td>0.104</td>\n      <td>0.04</td>\n      <td>0.196946</td>\n      <td>0.0</td>\n      <td>0.196946</td>\n    </tr>\n    <tr>\n      <th>50-54</th>\n      <td>10</td>\n      <td>2904703</td>\n      <td>0.062751</td>\n      <td>0.104</td>\n      <td>0.09</td>\n      <td>0.287623</td>\n      <td>0.0</td>\n      <td>0.287623</td>\n    </tr>\n    <tr>\n      <th>55-59</th>\n      <td>11</td>\n      <td>2632224</td>\n      <td>0.056865</td>\n      <td>0.112</td>\n      <td>0.07</td>\n      <td>0.256432</td>\n      <td>0.0</td>\n      <td>0.256432</td>\n    </tr>\n    <tr>\n      <th>60-64</th>\n      <td>12</td>\n      <td>2266765</td>\n      <td>0.048969</td>\n      <td>0.112</td>\n      <td>0.06</td>\n      <td>0.238683</td>\n      <td>0.0</td>\n      <td>0.238683</td>\n    </tr>\n    <tr>\n      <th>65-69</th>\n      <td>13</td>\n      <td>1780635</td>\n      <td>0.038468</td>\n      <td>0.188</td>\n      <td>0.07</td>\n      <td>0.256432</td>\n      <td>0.0</td>\n      <td>0.256432</td>\n    </tr>\n    <tr>\n      <th>70-74</th>\n      <td>14</td>\n      <td>1297671</td>\n      <td>0.028034</td>\n      <td>0.188</td>\n      <td>0.01</td>\n      <td>0.100000</td>\n      <td>0.0</td>\n      <td>0.100000</td>\n    </tr>\n    <tr>\n      <th>75-79</th>\n      <td>15</td>\n      <td>850465</td>\n      <td>0.018373</td>\n      <td>0.310</td>\n      <td>0.01</td>\n      <td>0.100000</td>\n      <td>0.0</td>\n      <td>0.100000</td>\n    </tr>\n    <tr>\n      <th>80-84</th>\n      <td>16</td>\n      <td>562367</td>\n      <td>0.012149</td>\n      <td>0.310</td>\n      <td>0.00</td>\n      <td>0.000000</td>\n      <td>0.0</td>\n      <td>0.000000</td>\n    </tr>\n    <tr>\n      <th>85-89</th>\n      <td>17</td>\n      <td>309125</td>\n      <td>0.006678</td>\n      <td>0.290</td>\n      <td>0.00</td>\n      <td>0.000000</td>\n      <td>0.0</td>\n      <td>0.000000</td>\n    </tr>\n    <tr>\n      <th>90+</th>\n      <td>18</td>\n      <td>205952</td>\n      <td>0.004449</td>\n      <td>0.290</td>\n      <td>0.00</td>\n      <td>0.000000</td>\n      <td>0.0</td>\n      <td>0.000000</td>\n    </tr>\n  </tbody>\n</table>\n</div>"
     },
     "metadata": {},
     "execution_count": 52
    }
   ],
   "source": [
    "df1_[0]"
   ]
  },
  {
   "cell_type": "code",
   "execution_count": 53,
   "metadata": {},
   "outputs": [
    {
     "output_type": "execute_result",
     "data": {
      "text/plain": "       index    Total  AGE_prob  ICU_prob  n_mean     n_std  n_mean_ICU  \\\nAge                                                                       \n00-04      0  3038361  0.065638     0.000    0.07  0.256432         0.0   \n05-09      1  3042098  0.065719     0.000    0.08  0.272660         0.0   \n10-14      2  2957679  0.063895     0.000    0.04  0.196946         0.0   \n15-19      3  3127121  0.067556     0.000    0.07  0.256432         0.0   \n20-24      4  3448513  0.074499     0.042    0.07  0.256432         0.0   \n25-29      5  3511090  0.075851     0.042    0.10  0.301511         0.0   \n30-34      6  3809963  0.082308     0.042    0.10  0.301511         0.0   \n35-39      7  3854180  0.083263     0.042    0.07  0.256432         0.0   \n40-44      8  3548754  0.076665     0.042    0.05  0.219043         0.0   \n45-49      9  3141667  0.067870     0.104    0.04  0.196946         0.0   \n50-54     10  2904703  0.062751     0.104    0.09  0.287623         0.0   \n55-59     11  2632224  0.056865     0.112    0.07  0.256432         0.0   \n60-64     12  2266765  0.048969     0.112    0.06  0.238683         0.0   \n65-69     13  1780635  0.038468     0.188    0.07  0.256432         0.0   \n70-74     14  1297671  0.028034     0.188    0.01  0.100000         0.0   \n75-79     15   850465  0.018373     0.310    0.01  0.100000         0.0   \n80-84     16   562367  0.012149     0.310    0.00  0.000000         0.0   \n85-89     17   309125  0.006678     0.290    0.00  0.000000         0.0   \n90+       18   205952  0.004449     0.290    0.00  0.000000         0.0   \n\n       n_std_ICU  \nAge               \n00-04   0.256432  \n05-09   0.272660  \n10-14   0.196946  \n15-19   0.256432  \n20-24   0.256432  \n25-29   0.301511  \n30-34   0.301511  \n35-39   0.256432  \n40-44   0.219043  \n45-49   0.196946  \n50-54   0.287623  \n55-59   0.256432  \n60-64   0.238683  \n65-69   0.256432  \n70-74   0.100000  \n75-79   0.100000  \n80-84   0.000000  \n85-89   0.000000  \n90+     0.000000  ",
      "text/html": "<div>\n<style scoped>\n    .dataframe tbody tr th:only-of-type {\n        vertical-align: middle;\n    }\n\n    .dataframe tbody tr th {\n        vertical-align: top;\n    }\n\n    .dataframe thead th {\n        text-align: right;\n    }\n</style>\n<table border=\"1\" class=\"dataframe\">\n  <thead>\n    <tr style=\"text-align: right;\">\n      <th></th>\n      <th>index</th>\n      <th>Total</th>\n      <th>AGE_prob</th>\n      <th>ICU_prob</th>\n      <th>n_mean</th>\n      <th>n_std</th>\n      <th>n_mean_ICU</th>\n      <th>n_std_ICU</th>\n    </tr>\n    <tr>\n      <th>Age</th>\n      <th></th>\n      <th></th>\n      <th></th>\n      <th></th>\n      <th></th>\n      <th></th>\n      <th></th>\n      <th></th>\n    </tr>\n  </thead>\n  <tbody>\n    <tr>\n      <th>00-04</th>\n      <td>0</td>\n      <td>3038361</td>\n      <td>0.065638</td>\n      <td>0.000</td>\n      <td>0.07</td>\n      <td>0.256432</td>\n      <td>0.0</td>\n      <td>0.256432</td>\n    </tr>\n    <tr>\n      <th>05-09</th>\n      <td>1</td>\n      <td>3042098</td>\n      <td>0.065719</td>\n      <td>0.000</td>\n      <td>0.08</td>\n      <td>0.272660</td>\n      <td>0.0</td>\n      <td>0.272660</td>\n    </tr>\n    <tr>\n      <th>10-14</th>\n      <td>2</td>\n      <td>2957679</td>\n      <td>0.063895</td>\n      <td>0.000</td>\n      <td>0.04</td>\n      <td>0.196946</td>\n      <td>0.0</td>\n      <td>0.196946</td>\n    </tr>\n    <tr>\n      <th>15-19</th>\n      <td>3</td>\n      <td>3127121</td>\n      <td>0.067556</td>\n      <td>0.000</td>\n      <td>0.07</td>\n      <td>0.256432</td>\n      <td>0.0</td>\n      <td>0.256432</td>\n    </tr>\n    <tr>\n      <th>20-24</th>\n      <td>4</td>\n      <td>3448513</td>\n      <td>0.074499</td>\n      <td>0.042</td>\n      <td>0.07</td>\n      <td>0.256432</td>\n      <td>0.0</td>\n      <td>0.256432</td>\n    </tr>\n    <tr>\n      <th>25-29</th>\n      <td>5</td>\n      <td>3511090</td>\n      <td>0.075851</td>\n      <td>0.042</td>\n      <td>0.10</td>\n      <td>0.301511</td>\n      <td>0.0</td>\n      <td>0.301511</td>\n    </tr>\n    <tr>\n      <th>30-34</th>\n      <td>6</td>\n      <td>3809963</td>\n      <td>0.082308</td>\n      <td>0.042</td>\n      <td>0.10</td>\n      <td>0.301511</td>\n      <td>0.0</td>\n      <td>0.301511</td>\n    </tr>\n    <tr>\n      <th>35-39</th>\n      <td>7</td>\n      <td>3854180</td>\n      <td>0.083263</td>\n      <td>0.042</td>\n      <td>0.07</td>\n      <td>0.256432</td>\n      <td>0.0</td>\n      <td>0.256432</td>\n    </tr>\n    <tr>\n      <th>40-44</th>\n      <td>8</td>\n      <td>3548754</td>\n      <td>0.076665</td>\n      <td>0.042</td>\n      <td>0.05</td>\n      <td>0.219043</td>\n      <td>0.0</td>\n      <td>0.219043</td>\n    </tr>\n    <tr>\n      <th>45-49</th>\n      <td>9</td>\n      <td>3141667</td>\n      <td>0.067870</td>\n      <td>0.104</td>\n      <td>0.04</td>\n      <td>0.196946</td>\n      <td>0.0</td>\n      <td>0.196946</td>\n    </tr>\n    <tr>\n      <th>50-54</th>\n      <td>10</td>\n      <td>2904703</td>\n      <td>0.062751</td>\n      <td>0.104</td>\n      <td>0.09</td>\n      <td>0.287623</td>\n      <td>0.0</td>\n      <td>0.287623</td>\n    </tr>\n    <tr>\n      <th>55-59</th>\n      <td>11</td>\n      <td>2632224</td>\n      <td>0.056865</td>\n      <td>0.112</td>\n      <td>0.07</td>\n      <td>0.256432</td>\n      <td>0.0</td>\n      <td>0.256432</td>\n    </tr>\n    <tr>\n      <th>60-64</th>\n      <td>12</td>\n      <td>2266765</td>\n      <td>0.048969</td>\n      <td>0.112</td>\n      <td>0.06</td>\n      <td>0.238683</td>\n      <td>0.0</td>\n      <td>0.238683</td>\n    </tr>\n    <tr>\n      <th>65-69</th>\n      <td>13</td>\n      <td>1780635</td>\n      <td>0.038468</td>\n      <td>0.188</td>\n      <td>0.07</td>\n      <td>0.256432</td>\n      <td>0.0</td>\n      <td>0.256432</td>\n    </tr>\n    <tr>\n      <th>70-74</th>\n      <td>14</td>\n      <td>1297671</td>\n      <td>0.028034</td>\n      <td>0.188</td>\n      <td>0.01</td>\n      <td>0.100000</td>\n      <td>0.0</td>\n      <td>0.100000</td>\n    </tr>\n    <tr>\n      <th>75-79</th>\n      <td>15</td>\n      <td>850465</td>\n      <td>0.018373</td>\n      <td>0.310</td>\n      <td>0.01</td>\n      <td>0.100000</td>\n      <td>0.0</td>\n      <td>0.100000</td>\n    </tr>\n    <tr>\n      <th>80-84</th>\n      <td>16</td>\n      <td>562367</td>\n      <td>0.012149</td>\n      <td>0.310</td>\n      <td>0.00</td>\n      <td>0.000000</td>\n      <td>0.0</td>\n      <td>0.000000</td>\n    </tr>\n    <tr>\n      <th>85-89</th>\n      <td>17</td>\n      <td>309125</td>\n      <td>0.006678</td>\n      <td>0.290</td>\n      <td>0.00</td>\n      <td>0.000000</td>\n      <td>0.0</td>\n      <td>0.000000</td>\n    </tr>\n    <tr>\n      <th>90+</th>\n      <td>18</td>\n      <td>205952</td>\n      <td>0.004449</td>\n      <td>0.290</td>\n      <td>0.00</td>\n      <td>0.000000</td>\n      <td>0.0</td>\n      <td>0.000000</td>\n    </tr>\n  </tbody>\n</table>\n</div>"
     },
     "metadata": {},
     "execution_count": 53
    }
   ],
   "source": [
    "df1_[0]"
   ]
  },
  {
   "cell_type": "code",
   "execution_count": 72,
   "metadata": {},
   "outputs": [
    {
     "output_type": "execute_result",
     "data": {
      "text/plain": "       index    Total  AGE_prob  ICU_prob  n_mean     n_std  n_mean_ICU  \\\nAge                                                                       \n00-04      0  3038361  0.065638     0.000    0.35  0.609272         0.0   \n05-09      1  3042098  0.065719     0.000    0.47  0.626921         0.0   \n10-14      2  2957679  0.063895     0.000    0.45  0.672324         0.0   \n15-19      3  3127121  0.067556     0.000    0.54  0.730573         0.0   \n20-24      4  3448513  0.074499     0.042    0.41  0.621094         0.0   \n25-29      5  3511090  0.075851     0.042    0.46  0.626357         0.0   \n30-34      6  3809963  0.082308     0.042    0.67  0.766139         0.0   \n35-39      7  3854180  0.083263     0.042    0.63  0.836720         0.0   \n40-44      8  3548754  0.076665     0.042    0.53  0.717107         0.0   \n45-49      9  3141667  0.067870     0.104    0.54  0.796710         0.0   \n50-54     10  2904703  0.062751     0.104    0.41  0.637150         0.0   \n55-59     11  2632224  0.056865     0.112    0.47  0.658357         0.0   \n60-64     12  2266765  0.048969     0.112    0.29  0.537390         0.0   \n65-69     13  1780635  0.038468     0.188    0.26  0.484507         0.0   \n70-74     14  1297671  0.028034     0.188    0.24  0.473969         0.0   \n75-79     15   850465  0.018373     0.310    0.12  0.356186         0.0   \n80-84     16   562367  0.012149     0.310    0.10  0.301511         0.0   \n85-89     17   309125  0.006678     0.290    0.02  0.140705         0.0   \n90+       18   205952  0.004449     0.290    0.04  0.196946         0.0   \n\n       n_std_ICU  \nAge               \n00-04   0.609272  \n05-09   0.626921  \n10-14   0.672324  \n15-19   0.730573  \n20-24   0.621094  \n25-29   0.626357  \n30-34   0.766139  \n35-39   0.836720  \n40-44   0.717107  \n45-49   0.796710  \n50-54   0.637150  \n55-59   0.658357  \n60-64   0.537390  \n65-69   0.484507  \n70-74   0.473969  \n75-79   0.356186  \n80-84   0.301511  \n85-89   0.140705  \n90+     0.196946  ",
      "text/html": "<div>\n<style scoped>\n    .dataframe tbody tr th:only-of-type {\n        vertical-align: middle;\n    }\n\n    .dataframe tbody tr th {\n        vertical-align: top;\n    }\n\n    .dataframe thead th {\n        text-align: right;\n    }\n</style>\n<table border=\"1\" class=\"dataframe\">\n  <thead>\n    <tr style=\"text-align: right;\">\n      <th></th>\n      <th>index</th>\n      <th>Total</th>\n      <th>AGE_prob</th>\n      <th>ICU_prob</th>\n      <th>n_mean</th>\n      <th>n_std</th>\n      <th>n_mean_ICU</th>\n      <th>n_std_ICU</th>\n    </tr>\n    <tr>\n      <th>Age</th>\n      <th></th>\n      <th></th>\n      <th></th>\n      <th></th>\n      <th></th>\n      <th></th>\n      <th></th>\n      <th></th>\n    </tr>\n  </thead>\n  <tbody>\n    <tr>\n      <th>00-04</th>\n      <td>0</td>\n      <td>3038361</td>\n      <td>0.065638</td>\n      <td>0.000</td>\n      <td>0.35</td>\n      <td>0.609272</td>\n      <td>0.0</td>\n      <td>0.609272</td>\n    </tr>\n    <tr>\n      <th>05-09</th>\n      <td>1</td>\n      <td>3042098</td>\n      <td>0.065719</td>\n      <td>0.000</td>\n      <td>0.47</td>\n      <td>0.626921</td>\n      <td>0.0</td>\n      <td>0.626921</td>\n    </tr>\n    <tr>\n      <th>10-14</th>\n      <td>2</td>\n      <td>2957679</td>\n      <td>0.063895</td>\n      <td>0.000</td>\n      <td>0.45</td>\n      <td>0.672324</td>\n      <td>0.0</td>\n      <td>0.672324</td>\n    </tr>\n    <tr>\n      <th>15-19</th>\n      <td>3</td>\n      <td>3127121</td>\n      <td>0.067556</td>\n      <td>0.000</td>\n      <td>0.54</td>\n      <td>0.730573</td>\n      <td>0.0</td>\n      <td>0.730573</td>\n    </tr>\n    <tr>\n      <th>20-24</th>\n      <td>4</td>\n      <td>3448513</td>\n      <td>0.074499</td>\n      <td>0.042</td>\n      <td>0.41</td>\n      <td>0.621094</td>\n      <td>0.0</td>\n      <td>0.621094</td>\n    </tr>\n    <tr>\n      <th>25-29</th>\n      <td>5</td>\n      <td>3511090</td>\n      <td>0.075851</td>\n      <td>0.042</td>\n      <td>0.46</td>\n      <td>0.626357</td>\n      <td>0.0</td>\n      <td>0.626357</td>\n    </tr>\n    <tr>\n      <th>30-34</th>\n      <td>6</td>\n      <td>3809963</td>\n      <td>0.082308</td>\n      <td>0.042</td>\n      <td>0.67</td>\n      <td>0.766139</td>\n      <td>0.0</td>\n      <td>0.766139</td>\n    </tr>\n    <tr>\n      <th>35-39</th>\n      <td>7</td>\n      <td>3854180</td>\n      <td>0.083263</td>\n      <td>0.042</td>\n      <td>0.63</td>\n      <td>0.836720</td>\n      <td>0.0</td>\n      <td>0.836720</td>\n    </tr>\n    <tr>\n      <th>40-44</th>\n      <td>8</td>\n      <td>3548754</td>\n      <td>0.076665</td>\n      <td>0.042</td>\n      <td>0.53</td>\n      <td>0.717107</td>\n      <td>0.0</td>\n      <td>0.717107</td>\n    </tr>\n    <tr>\n      <th>45-49</th>\n      <td>9</td>\n      <td>3141667</td>\n      <td>0.067870</td>\n      <td>0.104</td>\n      <td>0.54</td>\n      <td>0.796710</td>\n      <td>0.0</td>\n      <td>0.796710</td>\n    </tr>\n    <tr>\n      <th>50-54</th>\n      <td>10</td>\n      <td>2904703</td>\n      <td>0.062751</td>\n      <td>0.104</td>\n      <td>0.41</td>\n      <td>0.637150</td>\n      <td>0.0</td>\n      <td>0.637150</td>\n    </tr>\n    <tr>\n      <th>55-59</th>\n      <td>11</td>\n      <td>2632224</td>\n      <td>0.056865</td>\n      <td>0.112</td>\n      <td>0.47</td>\n      <td>0.658357</td>\n      <td>0.0</td>\n      <td>0.658357</td>\n    </tr>\n    <tr>\n      <th>60-64</th>\n      <td>12</td>\n      <td>2266765</td>\n      <td>0.048969</td>\n      <td>0.112</td>\n      <td>0.29</td>\n      <td>0.537390</td>\n      <td>0.0</td>\n      <td>0.537390</td>\n    </tr>\n    <tr>\n      <th>65-69</th>\n      <td>13</td>\n      <td>1780635</td>\n      <td>0.038468</td>\n      <td>0.188</td>\n      <td>0.26</td>\n      <td>0.484507</td>\n      <td>0.0</td>\n      <td>0.484507</td>\n    </tr>\n    <tr>\n      <th>70-74</th>\n      <td>14</td>\n      <td>1297671</td>\n      <td>0.028034</td>\n      <td>0.188</td>\n      <td>0.24</td>\n      <td>0.473969</td>\n      <td>0.0</td>\n      <td>0.473969</td>\n    </tr>\n    <tr>\n      <th>75-79</th>\n      <td>15</td>\n      <td>850465</td>\n      <td>0.018373</td>\n      <td>0.310</td>\n      <td>0.12</td>\n      <td>0.356186</td>\n      <td>0.0</td>\n      <td>0.356186</td>\n    </tr>\n    <tr>\n      <th>80-84</th>\n      <td>16</td>\n      <td>562367</td>\n      <td>0.012149</td>\n      <td>0.310</td>\n      <td>0.10</td>\n      <td>0.301511</td>\n      <td>0.0</td>\n      <td>0.301511</td>\n    </tr>\n    <tr>\n      <th>85-89</th>\n      <td>17</td>\n      <td>309125</td>\n      <td>0.006678</td>\n      <td>0.290</td>\n      <td>0.02</td>\n      <td>0.140705</td>\n      <td>0.0</td>\n      <td>0.140705</td>\n    </tr>\n    <tr>\n      <th>90+</th>\n      <td>18</td>\n      <td>205952</td>\n      <td>0.004449</td>\n      <td>0.290</td>\n      <td>0.04</td>\n      <td>0.196946</td>\n      <td>0.0</td>\n      <td>0.196946</td>\n    </tr>\n  </tbody>\n</table>\n</div>"
     },
     "metadata": {},
     "execution_count": 72
    }
   ],
   "source": [
    "df1_[12]"
   ]
  },
  {
   "cell_type": "code",
   "execution_count": 55,
   "metadata": {},
   "outputs": [],
   "source": [
    "def daily_av(df_, timeseries_data, date, SUS= True, p_SUS= 0.6278, n_samp_max= 1000, n_samp_min= 100):\n",
    "\n",
    "    #n_mean_    = []\n",
    "    #n_std_     = []\n",
    "    #n_mean_ICU_ = []\n",
    "    #n_std_ICU_  = []\n",
    "\n",
    "    ##for j in range(len(df_)):\n",
    "\n",
    "    ##    n_mean_.append(df_[j]['n_mean'].sum())\n",
    "    ##    n_std_.append( np.sqrt((df_[j]['n_std']**2).sum()) )\n",
    "        \n",
    "    ##    n_mean_ICU_.append(df_[j]['n_mean_ICU'].sum())\n",
    "    ##  n_std_ICU_.append( np.sqrt((df_[j]['n_std_ICU']**2).sum()) )\n",
    "\n",
    "    names = ['date', 'n_mean', 'n_std', 'n_mean_ICU', 'n_std_ICU']\n",
    "    df_ICU = pd.DataFrame(columns= names)\n",
    "    \n",
    "    #df_ICU['date'] = timeseries_data\n",
    "    df_ICU['date'] = date\n",
    "\n",
    "    \n",
    "    df_ICU['n_mean']     = df_['n_mean'].sum() \n",
    "    df_ICU['n_std']      = np.sqrt((df_['n_std']**2).sum()) \n",
    "    df_ICU['n_mean_ICU'] = df_['n_mean_ICU'].sum()\n",
    "    df_ICU['n_std_ICU']  = np.sqrt((df_['n_std_ICU']**2).sum())\n",
    "\n",
    "    df_ICU = df_ICU.set_index(['date'])\n",
    "\n",
    "\n",
    "    if SUS:\n",
    "\n",
    "        for j in range(n_samp_max):\n",
    "\n",
    "            samp = np.random.uniform(size= int(df_ICU.loc[date]['n_mean_ICU']))  \n",
    "            SUS_samp = samp <= p_SUS\n",
    "            aux_.append(SUS_samp.sum())\n",
    "\n",
    "\n",
    "\n",
    "        df_ICU.loc[date, 'n_mean_ICU_SUS'] = np.mean(aux_)\n",
    "        df_ICU.loc[date, 'n_std_ICU_SUS']  = np.std(aux_)\n",
    "\n",
    "        df_ICU['n_std_ICU_SUS'] = np.sqrt( df_ICU['n_std_ICU']**2 +  df_ICU['n_std_ICU_SUS']**2)\n",
    "\n",
    "    return df_ICU"
   ]
  },
  {
   "cell_type": "code",
   "execution_count": 69,
   "metadata": {},
   "outputs": [
    {
     "output_type": "execute_result",
     "data": {
      "text/plain": "0.000    9.16  3.047503        0.00   \n 05-09      1  3042098  0.065719     0.000    9.02  3.035081        0.00   \n 10-14      2  2957679  0.063895     0.000    8.89  3.011409        0.00   \n 15-19      3  3127121  0.067556     0.000   10.03  3.066453        0.00   \n 20-24      4  3448513  0.074499     0.042   10.55  3.388558        0.42   \n 25-29      5  3511090  0.075851     0.042   10.81  3.305016        0.36   \n 30-34      6  3809963  0.082308     0.042   12.06  3.569851        0.51   \n 35-39      7  3854180  0.083263     0.042   11.53  3.517503        0.41   \n 40-44      8  3548754  0.076665     0.042   10.57  3.382232        0.41   \n 45-49      9  3141667  0.067870     0.104    9.50  3.270622        0.95   \n 50-54     10  2904703  0.062751     0.104    9.09  2.832335        0.81   \n 55-59     11  2632224  0.056865     0.112    8.38  3.106786        0.97   \n 60-64     12  2266765  0.048969     0.112    6.73  2.557836        0.66   \n 65-69     13  1780635  0.038468     0.188    5.28  2.412426        0.96   \n 70-74     14  1297671  0.028034     0.188    3.77  2.024372        0.57   \n 75-79     15   850465  0.018373     0.310    2.48  1.617330        0.68   \n 80-84     16   562367  0.012149     0.310    1.63  1.338286        0.25   \n 85-89     17   309125  0.006678     0.290    1.00  0.876172        0.29   \n 90+       18   205952  0.004449     0.290    0.52  0.703239        0.00   \n \n        n_std_ICU  \n Age               \n 00-04   3.047503  \n 05-09   3.035081  \n 10-14   3.011409  \n 15-19   3.066453  \n 20-24   3.438884  \n 25-29   3.360585  \n 30-34   3.651539  \n 35-39   3.576972  \n 40-44   3.438226  \n 45-49   3.380010  \n 50-54   2.948902  \n 55-59   3.234381  \n 60-64   2.677111  \n 65-69   2.537360  \n 70-74   2.140836  \n 75-79   1.758794  \n 80-84   1.406595  \n 85-89   0.986700  \n 90+     0.703239  ,\n        index    Total  AGE_prob  ICU_prob  n_mean     n_std  n_mean_ICU  \\\n Age                                                                       \n 00-04      0  3038361  0.065638     0.000   11.80  3.399346        0.00   \n 05-09      1  3042098  0.065719     0.000   11.85  3.214157        0.00   \n 10-14      2  2957679  0.063895     0.000   11.07  3.130995        0.00   \n 15-19      3  3127121  0.067556     0.000   11.76  3.747376        0.00   \n 20-24      4  3448513  0.074499     0.042   12.85  3.322330        0.63   \n 25-29      5  3511090  0.075851     0.042   13.33  3.510604        0.54   \n 30-34      6  3809963  0.082308     0.042   14.10  3.652867        0.58   \n 35-39      7  3854180  0.083263     0.042   14.42  3.874756        0.52   \n 40-44      8  3548754  0.076665     0.042   13.76  3.238406        0.54   \n 45-49      9  3141667  0.067870     0.104   11.59  3.345719        1.11   \n 50-54     10  2904703  0.062751     0.104   11.04  3.244015        1.25   \n 55-59     11  2632224  0.056865     0.112    9.90  2.872721        1.04   \n 60-64     12  2266765  0.048969     0.112    8.78  2.713900        0.95   \n 65-69     13  1780635  0.038468     0.188    6.57  2.471065        1.33   \n 70-74     14  1297671  0.028034     0.188    5.51  2.418343        0.79   \n 75-79     15   850465  0.018373     0.310    3.31  1.555018        1.04   \n 80-84     16   562367  0.012149     0.310    2.26  1.521695        0.66   \n 85-89     17   309125  0.006678     0.290    1.24  1.111192        0.41   \n 90+       18   205952  0.004449     0.290    0.86  1.005239        0.00   \n \n        n_std_ICU  \n Age               \n 00-04   3.399346  \n 05-09   3.214157  \n 10-14   3.130995  \n 15-19   3.747376  \n 20-24   3.401614  \n 25-29   3.596212  \n 30-34   3.713090  \n 35-39   3.932345  \n 40-44   3.318987  \n 45-49   3.500248  \n 50-54   3.407512  \n 55-59   3.048102  \n 60-64   2.851798  \n 65-69   2.647123  \n 70-74   2.544461  \n 75-79   1.782268  \n 80-84   1.637057  \n 85-89   1.215174  \n 90+     1.005239  ,\n        index    Total  AGE_prob  ICU_prob  n_mean     n_std  n_mean_ICU  \\\n Age                                                                       \n 00-04      0  3038361  0.065638     0.000   12.30  3.151078        0.00   \n 05-09      1  3042098  0.065719     0.000   12.22  3.377226        0.00   \n 10-14      2  2957679  0.063895     0.000   11.42  3.062250        0.00   \n 15-19      3  3127121  0.067556     0.000   12.45  3.939889        0.00   \n 20-24      4  3448513  0.074499     0.042   13.83  3.461345        0.45   \n 25-29      5  3511090  0.075851     0.042   14.17  3.984959        0.47   \n 30-34      6  3809963  0.082308     0.042   15.54  4.001060        0.53   \n 35-39      7  3854180  0.083263     0.042   14.96  3.943848        0.69   \n 40-44      8  3548754  0.076665     0.042   13.66  3.753032        0.58   \n 45-49      9  3141667  0.067870     0.104   12.64  2.993326        1.12   \n 50-54     10  2904703  0.062751     0.104   11.63  3.227580        1.08   \n 55-59     11  2632224  0.056865     0.112   10.43  3.130995        1.11   \n 60-64     12  2266765  0.048969     0.112    9.29  2.583143        0.90   \n 65-69     13  1780635  0.038468     0.188    7.15  2.551985        1.30   \n 70-74     14  1297671  0.028034     0.188    5.20  2.522625        1.07   \n 75-79     15   850465  0.018373     0.310    3.66  1.837983        1.00   \n 80-84     16   562367  0.012149     0.310    2.27  1.462356        0.48   \n 85-89     17   309125  0.006678     0.290    1.31  1.252835        0.27   \n 90+       18   205952  0.004449     0.290    0.87  0.928287        0.00   \n \n        n_std_ICU  \n Age               \n 00-04   3.151078  \n 05-09   3.377226  \n 10-14   3.062250  \n 15-19   3.939889  \n 20-24   3.525395  \n 25-29   4.035963  \n 30-34   4.066643  \n 35-39   4.053127  \n 40-44   3.843026  \n 45-49   3.150492  \n 50-54   3.454110  \n 55-59   3.319794  \n 60-64   2.739092  \n 65-69   2.786149  \n 70-74   2.692348  \n 75-79   2.014493  \n 80-84   1.577366  \n 85-89   1.329171  \n 90+     0.928287  ,\n        index    Total  AGE_prob  ICU_prob  n_mean     n_std  n_mean_ICU  \\\n Age                                                                       \n 00-04      0  3038361  0.065638     0.000   13.06  3.544294        0.00   \n 05-09      1  3042098  0.065719     0.000   12.58  3.411744        0.00   \n 10-14      2  2957679  0.063895     0.000   12.74  3.424865        0.00   \n 15-19      3  3127121  0.067556     0.000   13.60  4.022663        0.00   \n 20-24      4  3448513  0.074499     0.042   14.68  3.218884        0.58   \n 25-29      5  3511090  0.075851     0.042   14.99  3.825737        0.57   \n 30-34      6  3809963  0.082308     0.042   15.98  3.687215        0.69   \n 35-39      7  3854180  0.083263     0.042   16.47  3.857185        0.67   \n 40-44      8  3548754  0.076665     0.042   14.60  3.687270        0.60   \n 45-49      9  3141667  0.067870     0.104   13.25  3.537319        1.29   \n 50-54     10  2904703  0.062751     0.104   12.21  3.316000        1.32   \n 55-59     11  2632224  0.056865     0.112   10.62  3.317477        1.07   \n 60-64     12  2266765  0.048969     0.112    9.54  3.270375        1.21   \n 65-69     13  1780635  0.038468     0.188    7.75  2.958893        1.35   \n 70-74     14  1297671  0.028034     0.188    5.39  2.317675        0.98   \n 75-79     15   850465  0.018373     0.310    3.59  1.917990        1.01   \n 80-84     16   562367  0.012149     0.310    2.28  1.589613        0.71   \n 85-89     17   309125  0.006678     0.290    1.00  1.005038        0.23   \n 90+       18   205952  0.004449     0.290    0.67  0.804721        0.00   \n \n        n_std_ICU  \n Age               \n 00-04   3.544294  \n 05-09   3.411744  \n 10-14   3.424865  \n 15-19   4.022663  \n 20-24   3.299214  \n 25-29   3.886047  \n 30-34   3.769543  \n 35-39   3.952085  \n 40-44   3.757121  \n 45-49   3.695744  \n 50-54   3.486181  \n 55-59   3.456987  \n 60-64   3.426551  \n 65-69   3.121306  \n 70-74   2.480165  \n 75-79   2.061210  \n 80-84   1.741485  \n 85-89   1.089588  \n 90+     0.804721  ,\n        index    Total  AGE_prob  ICU_prob  n_mean     n_std  n_mean_ICU  \\\n Age                                                                       \n 00-04      0  3038361  0.065638     0.000   13.81  3.183591        0.00   \n 05-09      1  3042098  0.065719     0.000   13.94  3.495509        0.00   \n 10-14      2  2957679  0.063895     0.000   13.32  3.498571        0.00   \n 15-19      3  3127121  0.067556     0.000   14.48  3.520445        0.00   \n 20-24      4  3448513  0.074499     0.042   15.20  3.842874        0.70   \n 25-29      5  3511090  0.075851     0.042   15.87  3.392371        0.51   \n 30-34      6  3809963  0.082308     0.042   17.16  3.963775        0.51   \n 35-39      7  3854180  0.083263     0.042   18.06  3.879029        0.74   \n 40-44      8  3548754  0.076665     0.042   16.66  3.408901        0.73   \n 45-49      9  3141667  0.067870     0.104   14.27  3.754741        1.55   \n 50-54     10  2904703  0.062751     0.104   13.66  3.464743        1.32   \n 55-59     11  2632224  0.056865     0.112   12.18  3.229848        1.38   \n 60-64     12  2266765  0.048969     0.112    9.86  3.071603        1.10   \n 65-69     13  1780635  0.038468     0.188    8.31  2.513378        1.51   \n 70-74     14  1297671  0.028034     0.188    6.13  2.385372        1.09   \n 75-79     15   850465  0.018373     0.310    3.87  1.998257        0.86   \n 80-84     16   562367  0.012149     0.310    2.65  1.742951        0.60   \n 85-89     17   309125  0.006678     0.290    1.49  1.123621        0.32   \n 90+       18   205952  0.004449     0.290    1.08  1.041367        0.35   \n \n        n_std_ICU  \n Age               \n 00-04   3.183591  \n 05-09   3.495509  \n 10-14   3.498571  \n 15-19   3.520445  \n 20-24   3.936709  \n 25-29   3.466711  \n 30-34   4.032545  \n 35-39   3.952122  \n 40-44   3.506809  \n 45-49   3.924994  \n 50-54   3.603060  \n 55-59   3.404045  \n 60-64   3.247268  \n 65-69   2.743533  \n 70-74   2.555758  \n 75-79   2.143229  \n 80-84   1.859537  \n 85-89   1.216604  \n 90+     1.145401  ,\n        index    Total  AGE_prob  ICU_prob  n_mean     n_std  n_mean_ICU  \\\n Age                                                                       \n 00-04      0  3038361  0.065638     0.000   15.22  3.778140        0.00   \n 05-09      1  3042098  0.065719     0.000   14.92  3.743493        0.00   \n 10-14      2  2957679  0.063895     0.000   14.18  4.135044        0.00   \n 15-19      3  3127121  0.067556     0.000   15.00  3.449491        0.00   \n 20-24      4  3448513  0.074499     0.042   16.69  3.773097        0.74   \n 25-29      5  3511090  0.075851     0.042   16.56  3.376448        0.67   \n 30-34      6  3809963  0.082308     0.042   18.66  4.127317        0.80   \n 35-39      7  3854180  0.083263     0.042   18.49  4.011335        0.83   \n 40-44      8  3548754  0.076665     0.042   17.27  3.681389        0.56   \n 45-49      9  3141667  0.067870     0.104   14.81  3.870883        1.38   \n 50-54     10  2904703  0.062751     0.104   14.26  3.694440        1.33   \n 55-59     11  2632224  0.056865     0.112   12.77  3.360060        1.28   \n 60-64     12  2266765  0.048969     0.112   10.56  3.150501        1.26   \n 65-69     13  1780635  0.038468     0.188    8.46  2.819198        1.50   \n 70-74     14  1297671  0.028034     0.188    6.39  2.145679        1.05   \n 75-79     15   850465  0.018373     0.310    4.40  2.049883        1.26   \n 80-84     16   562367  0.012149     0.310    2.85  1.695955        0.66   \n 85-89     17   309125  0.006678     0.290    1.70  1.417780        0.33   \n 90+       18   205952  0.004449     0.290    0.81  0.884148        0.00   \n \n        n_std_ICU  \n Age               \n 00-04   3.778140  \n 05-09   3.743493  \n 10-14   4.135044  \n 15-19   3.449491  \n 20-24   3.858583  \n 25-29   3.475846  \n 30-34   4.244378  \n 35-39   4.095352  \n 40-44   3.762848  \n 45-49   3.987397  \n 50-54   3.848375  \n 55-59   3.517329  \n 60-64   3.319346  \n 65-69   3.036096  \n 70-74   2.373065  \n 75-79   2.234820  \n 80-84   1.822269  \n 85-89   1.493721  \n 90+     0.884148  ,\n        index    Total  AGE_prob  ICU_prob  n_mean     n_std  n_mean_ICU  \\\n Age                                                                       \n 00-04      0  3038361  0.065638     0.000   15.23  3.722319        0.00   \n 05-09      1  3042098  0.065719     0.000   15.01  3.726766        0.00   \n 10-14      2  2957679  0.063895     0.000   15.01  3.694098        0.00   \n 15-19      3  3127121  0.067556     0.000   14.94  3.454817        0.00   \n 20-24      4  3448513  0.074499     0.042   16.42  3.651982        0.65   \n 25-29      5  3511090  0.075851     0.042   17.31  3.711013        0.88   \n 30-34      6  3809963  0.082308     0.042   17.60  3.733550        0.74   \n 35-39      7  3854180  0.083263     0.042   19.78  4.103657        0.84   \n 40-44      8  3548754  0.076665     0.042   17.71  4.028422        0.74   \n 45-49      9  3141667  0.067870     0.104   15.31  3.981510        1.61   \n 50-54     10  2904703  0.062751     0.104   14.04  3.703452        1.62   \n 55-59     11  2632224  0.056865     0.112   12.96  3.237782        1.34   \n 60-64     12  2266765  0.048969     0.112   11.18  3.157099        1.29   \n 65-69     13  1780635  0.038468     0.188    9.16  2.766028        1.66   \n 70-74     14  1297671  0.028034     0.188    6.72  2.370185        1.12   \n 75-79     15   850465  0.018373     0.310    4.40  2.348436        1.35   \n 80-84     16   562367  0.012149     0.310    2.52  1.306395        0.59   \n 85-89     17   309125  0.006678     0.290    1.57  1.112418        0.34   \n 90+       18   205952  0.004449     0.290    1.13  1.041124        0.33   \n \n        n_std_ICU  \n Age               \n 00-04   3.722319  \n 05-09   3.726766  \n 10-14   3.694098  \n 15-19   3.454817  \n 20-24   3.728870  \n 25-29   3.828474  \n 30-34   3.840806  \n 35-39   4.206471  \n 40-44   4.101290  \n 45-49   4.182143  \n 50-54   3.869258  \n 55-59   3.433312  \n 60-64   3.351593  \n 65-69   2.972425  \n 70-74   2.596801  \n 75-79   2.526391  \n 80-84   1.452090  \n 85-89   1.209080  \n 90+     1.142383  ,\n        index    Total  AGE_prob  ICU_prob  n_mean     n_std  n_mean_ICU  \\\n Age                                                                       \n 00-04      0  3038361  0.065638     0.000   14.66  3.843452        0.00   \n 05-09      1  3042098  0.065719     0.000   14.94  3.628785        0.00   \n 10-14      2  2957679  0.063895     0.000   14.62  3.940927        0.00   \n 15-19      3  3127121  0.067556     0.000   15.10  4.028936        0.00   \n 20-24      4  3448513  0.074499     0.042   16.25  3.890873        0.72   \n 25-29      5  3511090  0.075851     0.042   17.16  3.868338        0.72   \n 30-34      6  3809963  0.082308     0.042   19.09  3.972367        0.76   \n 35-39      7  3854180  0.083263     0.042   18.63  4.396176        0.68   \n 40-44      8  3548754  0.076665     0.042   17.36  3.893844        0.78   \n 45-49      9  3141667  0.067870     0.104   15.07  3.785285        1.60   \n 50-54     10  2904703  0.062751     0.104   14.21  3.485308        1.35   \n 55-59     11  2632224  0.056865     0.112   12.39  3.375177        1.36   \n 60-64     12  2266765  0.048969     0.112   10.76  3.241524        0.98   \n 65-69     13  1780635  0.038468     0.188    9.09  2.968164        1.79   \n 70-74     14  1297671  0.028034     0.188    6.85  2.345746        1.18   \n 75-79     15   850465  0.018373     0.310    4.38  2.163891        1.37   \n 80-84     16   562367  0.012149     0.310    2.82  1.678022        0.65   \n 85-89     17   309125  0.006678     0.290    1.62  1.324059        0.30   \n 90+       18   205952  0.004449     0.290    1.00  1.082459        0.31   \n \n        n_std_ICU  \n Age               \n 00-04   3.843452  \n 05-09   3.628785  \n 10-14   3.940927  \n 15-19   4.028936  \n 20-24   3.972466  \n 25-29   3.950397  \n 30-34   4.059815  \n 35-39   4.452411  \n 40-44   3.996701  \n 45-49   3.948213  \n 50-54   3.629721  \n 55-59   3.530187  \n 60-64   3.386307  \n 65-69   3.267400  \n 70-74   2.519945  \n 75-79   2.365486  \n 80-84   1.800905  \n 85-89   1.401118  \n 90+     1.177122  ,\n        index    Total  AGE_prob  ICU_prob  n_mean     n_std  n_mean_ICU  \\\n Age                                                                       \n 00-04      0  3038361  0.065638     0.000   15.16  3.697447        0.00   \n 05-09      1  3042098  0.065719     0.000   15.12  3.742413        0.00   \n 10-14      2  2957679  0.063895     0.000   14.93  4.050826        0.00   \n 15-19      3  3127121  0.067556     0.000   15.50  4.260460        0.00   \n 20-24      4  3448513  0.074499     0.042   17.63  4.056806        0.70   \n 25-29      5  3511090  0.075851     0.042   18.49  4.522659        0.75   \n 30-34      6  3809963  0.082308     0.042   19.80  4.308788        0.90   \n 35-39      7  3854180  0.083263     0.042   19.88  4.376891        0.95   \n 40-44      8  3548754  0.076665     0.042   18.37  4.138157        0.78   \n 45-49      9  3141667  0.067870     0.104   16.78  4.162313        1.37   \n 50-54     10  2904703  0.062751     0.104   14.03  3.611024        1.47   \n 55-59     11  2632224  0.056865     0.112   13.61  3.407938        1.64   \n 60-64     12  2266765  0.048969     0.112   11.50  3.370999        1.07   \n 65-69     13  1780635  0.038468     0.188    8.85  3.069482        1.45   \n 70-74     14  1297671  0.028034     0.188    7.01  2.504521        1.23   \n 75-79     15   850465  0.018373     0.310    4.12  1.788177        1.27   \n 80-84     16   562367  0.012149     0.310    2.80  1.769552        0.59   \n 85-89     17   309125  0.006678     0.290    1.36  1.123846        0.33   \n 90+       18   205952  0.004449     0.290    1.06  1.003227        0.32   \n \n        n_std_ICU  \n Age               \n 00-04   3.697447  \n 05-09   3.742413  \n 10-14   4.050826  \n 15-19   4.260460  \n 20-24   4.150624  \n 25-29   4.595862  \n 30-34   4.408589  \n 35-39   4.470422  \n 40-44   4.235085  \n 45-49   4.305572  \n 50-54   3.801131  \n 55-59   3.603393  \n 60-64   3.516921  \n 65-69   3.266377  \n 70-74   2.747677  \n 75-79   2.057833  \n 80-84   1.906099  \n 85-89   1.218249  \n 90+     1.106375  ,\n        index    Total  AGE_prob  ICU_prob  n_mean     n_std  n_mean_ICU  \\\n Age                                                                       \n 00-04      0  3038361  0.065638     0.000   14.91  4.072810        0.00   \n 05-09      1  3042098  0.065719     0.000   15.52  4.395774        0.00   \n 10-14      2  2957679  0.063895     0.000   14.88  3.690775        0.00   \n 15-19      3  3127121  0.067556     0.000   16.54  3.729273        0.00   \n 20-24      4  3448513  0.074499     0.042   18.04  4.320307        0.87   \n 25-29      5  3511090  0.075851     0.042   18.08  3.938107        0.78   \n 30-34      6  3809963  0.082308     0.042   20.57  4.290593        0.93   \n 35-39      7  3854180  0.083263     0.042   20.27  4.426402        0.82   \n 40-44      8  3548754  0.076665     0.042   18.50  3.580249        0.77   \n 45-49      9  3141667  0.067870     0.104   15.63  4.006699        1.46   \n 50-54     10  2904703  0.062751     0.104   14.93  4.107778        1.52   \n 55-59     11  2632224  0.056865     0.112   13.41  4.047933        1.80   \n 60-64     12  2266765  0.048969     0.112   11.93  3.747740        1.27   \n 65-69     13  1780635  0.038468     0.188    9.15  3.571421        1.45   \n 70-74     14  1297671  0.028034     0.188    6.93  2.471065        0.89   \n 75-79     15   850465  0.018373     0.310    4.09  2.170021        1.32   \n 80-84     16   562367  0.012149     0.310    2.86  1.792352        0.66   \n 85-89     17   309125  0.006678     0.290    1.78  1.345250        0.34   \n 90+       18   205952  0.004449     0.290    0.98  1.044272        0.00   \n \n        n_std_ICU  \n Age               \n 00-04   4.072810  \n 05-09   4.395774  \n 10-14   3.690775  \n 15-19   3.729273  \n 20-24   4.404333  \n 25-29   4.024958  \n 30-34   4.401624  \n 35-39   4.549795  \n 40-44   3.662688  \n 45-49   4.164377  \n 50-54   4.294582  \n 55-59   4.200685  \n 60-64   3.886214  \n 65-69   3.776579  \n 70-74   2.650295  \n 75-79   2.376255  \n 80-84   1.912309  \n 85-89   1.426218  \n 90+     1.044272  ]"
     },
     "metadata": {},
     "execution_count": 69
    }
   ],
   "source": [
    "df1_"
   ]
  },
  {
   "cell_type": "code",
   "execution_count": 56,
   "metadata": {},
   "outputs": [],
   "source": [
    "df1_ICU_ = daily_av(df1_, timeseries_data= df_I.index, SUS= True, p_SUS= p_SUS, n_samp_max= 100, n_samp_min= 100)"
   ]
  },
  {
   "cell_type": "code",
   "execution_count": 58,
   "metadata": {},
   "outputs": [
    {
     "output_type": "execute_result",
     "data": {
      "text/plain": "            n_mean      n_std  n_mean_ICU  n_std_ICU  n_mean_ICU_SUS  \\\ndate                                                                   \n2020-04-06     1.0   0.967450        0.00   0.967450            0.00   \n2020-04-07     1.0   0.968389        0.00   0.968389            0.00   \n2020-04-08     1.0   0.968494        0.00   0.968494            0.00   \n2020-04-09     2.0   1.375103        0.00   1.375103            0.00   \n2020-04-10     4.0   1.948944        0.00   1.948944            0.00   \n...            ...        ...         ...        ...             ...   \n2020-06-06   224.0  14.208121       13.65  14.610880            8.30   \n2020-06-07   228.0  14.151789       15.10  14.610754            9.74   \n2020-06-08   226.0  14.600858       14.55  15.009176            8.58   \n2020-06-09   236.0  15.219445       14.82  15.654971            8.82   \n2020-06-10   239.0  15.539490       14.88  15.961740            8.85   \n\n            n_std_ICU_SUS  \ndate                       \n2020-04-06       0.967450  \n2020-04-07       0.968389  \n2020-04-08       0.968494  \n2020-04-09       1.375103  \n2020-04-10       1.948944  \n...                   ...  \n2020-06-06      14.733221  \n2020-06-07      14.738607  \n2020-06-08      15.096985  \n2020-06-09      15.770406  \n2020-06-10      16.066881  \n\n[66 rows x 6 columns]",
      "text/html": "<div>\n<style scoped>\n    .dataframe tbody tr th:only-of-type {\n        vertical-align: middle;\n    }\n\n    .dataframe tbody tr th {\n        vertical-align: top;\n    }\n\n    .dataframe thead th {\n        text-align: right;\n    }\n</style>\n<table border=\"1\" class=\"dataframe\">\n  <thead>\n    <tr style=\"text-align: right;\">\n      <th></th>\n      <th>n_mean</th>\n      <th>n_std</th>\n      <th>n_mean_ICU</th>\n      <th>n_std_ICU</th>\n      <th>n_mean_ICU_SUS</th>\n      <th>n_std_ICU_SUS</th>\n    </tr>\n    <tr>\n      <th>date</th>\n      <th></th>\n      <th></th>\n      <th></th>\n      <th></th>\n      <th></th>\n      <th></th>\n    </tr>\n  </thead>\n  <tbody>\n    <tr>\n      <th>2020-04-06</th>\n      <td>1.0</td>\n      <td>0.967450</td>\n      <td>0.00</td>\n      <td>0.967450</td>\n      <td>0.00</td>\n      <td>0.967450</td>\n    </tr>\n    <tr>\n      <th>2020-04-07</th>\n      <td>1.0</td>\n      <td>0.968389</td>\n      <td>0.00</td>\n      <td>0.968389</td>\n      <td>0.00</td>\n      <td>0.968389</td>\n    </tr>\n    <tr>\n      <th>2020-04-08</th>\n      <td>1.0</td>\n      <td>0.968494</td>\n      <td>0.00</td>\n      <td>0.968494</td>\n      <td>0.00</td>\n      <td>0.968494</td>\n    </tr>\n    <tr>\n      <th>2020-04-09</th>\n      <td>2.0</td>\n      <td>1.375103</td>\n      <td>0.00</td>\n      <td>1.375103</td>\n      <td>0.00</td>\n      <td>1.375103</td>\n    </tr>\n    <tr>\n      <th>2020-04-10</th>\n      <td>4.0</td>\n      <td>1.948944</td>\n      <td>0.00</td>\n      <td>1.948944</td>\n      <td>0.00</td>\n      <td>1.948944</td>\n    </tr>\n    <tr>\n      <th>...</th>\n      <td>...</td>\n      <td>...</td>\n      <td>...</td>\n      <td>...</td>\n      <td>...</td>\n      <td>...</td>\n    </tr>\n    <tr>\n      <th>2020-06-06</th>\n      <td>224.0</td>\n      <td>14.208121</td>\n      <td>13.65</td>\n      <td>14.610880</td>\n      <td>8.30</td>\n      <td>14.733221</td>\n    </tr>\n    <tr>\n      <th>2020-06-07</th>\n      <td>228.0</td>\n      <td>14.151789</td>\n      <td>15.10</td>\n      <td>14.610754</td>\n      <td>9.74</td>\n      <td>14.738607</td>\n    </tr>\n    <tr>\n      <th>2020-06-08</th>\n      <td>226.0</td>\n      <td>14.600858</td>\n      <td>14.55</td>\n      <td>15.009176</td>\n      <td>8.58</td>\n      <td>15.096985</td>\n    </tr>\n    <tr>\n      <th>2020-06-09</th>\n      <td>236.0</td>\n      <td>15.219445</td>\n      <td>14.82</td>\n      <td>15.654971</td>\n      <td>8.82</td>\n      <td>15.770406</td>\n    </tr>\n    <tr>\n      <th>2020-06-10</th>\n      <td>239.0</td>\n      <td>15.539490</td>\n      <td>14.88</td>\n      <td>15.961740</td>\n      <td>8.85</td>\n      <td>16.066881</td>\n    </tr>\n  </tbody>\n</table>\n<p>66 rows × 6 columns</p>\n</div>"
     },
     "metadata": {},
     "execution_count": 58
    }
   ],
   "source": [
    "df1_ICU_"
   ]
  },
  {
   "cell_type": "code",
   "execution_count": 61,
   "metadata": {},
   "outputs": [
    {
     "output_type": "execute_result",
     "data": {
      "text/plain": "n_mean            1.00000\nn_std             0.96745\nn_mean_ICU        0.00000\nn_std_ICU         0.96745\nn_mean_ICU_SUS    0.00000\nn_std_ICU_SUS     0.96745\nName: 2020-04-06 00:00:00, dtype: float64"
     },
     "metadata": {},
     "execution_count": 61
    }
   ],
   "source": [
    "df1_ICU_.iloc[0]"
   ]
  },
  {
   "cell_type": "code",
   "execution_count": 62,
   "metadata": {},
   "outputs": [],
   "source": [
    "def correction(x, df_, T_ICU= 14):\n",
    "\n",
    "    df_.iloc[x]['n_mean_ICU_cor'] = 0.\n",
    "    df_.iloc[x]['n_std_ICU_cor'] = 0.\n",
    "    \n",
    "    if x <= T_ICU:\n",
    "                   \n",
    "        df_.iloc[x]['n_mean_ICU_cor'] = df_.iloc[x]['n_mean_ICU']\n",
    "        df_.iloc[x]['n_std_ICU_cor']   = df_.iloc[x]['n_std_ICU']\n",
    "             \n",
    "    else:\n",
    "        \n",
    "        delta = df_.iloc[x]['n_mean_ICU'] - df_.iloc[x - T_ICU]['n_mean_ICU']\n",
    "        \n",
    "        df_.iloc[x]['n_mean_ICU_cor'] = np.heaviside(delta, 0) * delta\n",
    "        df_.iloc[x]['n_std_ICU_cor']  = np.sqrt(df_.iloc[x]['n_std_ICU']**2 + df_.iloc[x - T_ICU]['n_std_ICU']**2)"
   ]
  },
  {
   "cell_type": "code",
   "execution_count": 65,
   "metadata": {},
   "outputs": [
    {
     "output_type": "execute_result",
     "data": {
      "text/plain": "66"
     },
     "metadata": {},
     "execution_count": 65
    }
   ],
   "source": [
    "len(df1_ICU_)"
   ]
  },
  {
   "cell_type": "code",
   "execution_count": 67,
   "metadata": {},
   "outputs": [],
   "source": [
    "for j in range(len(df1_ICU_)):\n",
    "\n",
    "    correction(j, df1_ICU_)\n"
   ]
  },
  {
   "cell_type": "code",
   "execution_count": 68,
   "metadata": {},
   "outputs": [
    {
     "output_type": "execute_result",
     "data": {
      "text/plain": "            n_mean      n_std  n_mean_ICU  n_std_ICU  n_mean_ICU_SUS  \\\ndate                                                                   \n2020-04-06     1.0   0.967450        0.00   0.967450            0.00   \n2020-04-07     1.0   0.968389        0.00   0.968389            0.00   \n2020-04-08     1.0   0.968494        0.00   0.968494            0.00   \n2020-04-09     2.0   1.375103        0.00   1.375103            0.00   \n2020-04-10     4.0   1.948944        0.00   1.948944            0.00   \n...            ...        ...         ...        ...             ...   \n2020-06-06   224.0  14.208121       13.65  14.610880            8.30   \n2020-06-07   228.0  14.151789       15.10  14.610754            9.74   \n2020-06-08   226.0  14.600858       14.55  15.009176            8.58   \n2020-06-09   236.0  15.219445       14.82  15.654971            8.82   \n2020-06-10   239.0  15.539490       14.88  15.961740            8.85   \n\n            n_std_ICU_SUS  \ndate                       \n2020-04-06       0.967450  \n2020-04-07       0.968389  \n2020-04-08       0.968494  \n2020-04-09       1.375103  \n2020-04-10       1.948944  \n...                   ...  \n2020-06-06      14.733221  \n2020-06-07      14.738607  \n2020-06-08      15.096985  \n2020-06-09      15.770406  \n2020-06-10      16.066881  \n\n[66 rows x 6 columns]",
      "text/html": "<div>\n<style scoped>\n    .dataframe tbody tr th:only-of-type {\n        vertical-align: middle;\n    }\n\n    .dataframe tbody tr th {\n        vertical-align: top;\n    }\n\n    .dataframe thead th {\n        text-align: right;\n    }\n</style>\n<table border=\"1\" class=\"dataframe\">\n  <thead>\n    <tr style=\"text-align: right;\">\n      <th></th>\n      <th>n_mean</th>\n      <th>n_std</th>\n      <th>n_mean_ICU</th>\n      <th>n_std_ICU</th>\n      <th>n_mean_ICU_SUS</th>\n      <th>n_std_ICU_SUS</th>\n    </tr>\n    <tr>\n      <th>date</th>\n      <th></th>\n      <th></th>\n      <th></th>\n      <th></th>\n      <th></th>\n      <th></th>\n    </tr>\n  </thead>\n  <tbody>\n    <tr>\n      <th>2020-04-06</th>\n      <td>1.0</td>\n      <td>0.967450</td>\n      <td>0.00</td>\n      <td>0.967450</td>\n      <td>0.00</td>\n      <td>0.967450</td>\n    </tr>\n    <tr>\n      <th>2020-04-07</th>\n      <td>1.0</td>\n      <td>0.968389</td>\n      <td>0.00</td>\n      <td>0.968389</td>\n      <td>0.00</td>\n      <td>0.968389</td>\n    </tr>\n    <tr>\n      <th>2020-04-08</th>\n      <td>1.0</td>\n      <td>0.968494</td>\n      <td>0.00</td>\n      <td>0.968494</td>\n      <td>0.00</td>\n      <td>0.968494</td>\n    </tr>\n    <tr>\n      <th>2020-04-09</th>\n      <td>2.0</td>\n      <td>1.375103</td>\n      <td>0.00</td>\n      <td>1.375103</td>\n      <td>0.00</td>\n      <td>1.375103</td>\n    </tr>\n    <tr>\n      <th>2020-04-10</th>\n      <td>4.0</td>\n      <td>1.948944</td>\n      <td>0.00</td>\n      <td>1.948944</td>\n      <td>0.00</td>\n      <td>1.948944</td>\n    </tr>\n    <tr>\n      <th>...</th>\n      <td>...</td>\n      <td>...</td>\n      <td>...</td>\n      <td>...</td>\n      <td>...</td>\n      <td>...</td>\n    </tr>\n    <tr>\n      <th>2020-06-06</th>\n      <td>224.0</td>\n      <td>14.208121</td>\n      <td>13.65</td>\n      <td>14.610880</td>\n      <td>8.30</td>\n      <td>14.733221</td>\n    </tr>\n    <tr>\n      <th>2020-06-07</th>\n      <td>228.0</td>\n      <td>14.151789</td>\n      <td>15.10</td>\n      <td>14.610754</td>\n      <td>9.74</td>\n      <td>14.738607</td>\n    </tr>\n    <tr>\n      <th>2020-06-08</th>\n      <td>226.0</td>\n      <td>14.600858</td>\n      <td>14.55</td>\n      <td>15.009176</td>\n      <td>8.58</td>\n      <td>15.096985</td>\n    </tr>\n    <tr>\n      <th>2020-06-09</th>\n      <td>236.0</td>\n      <td>15.219445</td>\n      <td>14.82</td>\n      <td>15.654971</td>\n      <td>8.82</td>\n      <td>15.770406</td>\n    </tr>\n    <tr>\n      <th>2020-06-10</th>\n      <td>239.0</td>\n      <td>15.539490</td>\n      <td>14.88</td>\n      <td>15.961740</td>\n      <td>8.85</td>\n      <td>16.066881</td>\n    </tr>\n  </tbody>\n</table>\n<p>66 rows × 6 columns</p>\n</div>"
     },
     "metadata": {},
     "execution_count": 68
    }
   ],
   "source": [
    "df1_ICU_"
   ]
  },
  {
   "cell_type": "code",
   "execution_count": 20,
   "metadata": {},
   "outputs": [
    {
     "output_type": "execute_result",
     "data": {
      "text/plain": "            n_mean      n_std  n_mean_ICU  n_std_ICU  n_mean_ICU_SUS  \\\ndate                                                                   \n2020-04-06     1.0   0.968076        0.00   0.968076            0.00   \n2020-04-07     1.0   0.965150        0.00   0.965150            0.00   \n2020-04-08     1.0   0.963684        0.00   0.963684            0.00   \n2020-04-09     2.0   1.368255        0.00   1.368255            0.00   \n2020-04-10     4.0   1.922225        0.00   1.922225            0.00   \n...            ...        ...         ...        ...             ...   \n2020-06-06   224.0  14.812778        9.35  17.976001            6.02   \n2020-06-07   228.0  15.176863        9.02  18.321058            5.52   \n2020-06-08   226.0  14.371928        8.27  17.712190            4.89   \n2020-06-09   236.0  14.963288        8.85  18.385468            5.30   \n2020-06-10   239.0  14.490617        9.23  18.074181            5.45   \n\n            n_std_ICU_SUS  \ndate                       \n2020-04-06       0.968076  \n2020-04-07       0.965150  \n2020-04-08       0.963684  \n2020-04-09       1.368255  \n2020-04-10       1.922225  \n...                   ...  \n2020-06-06      18.029315  \n2020-06-07      18.374732  \n2020-06-08      17.765685  \n2020-06-09      18.441677  \n2020-06-10      18.140108  \n\n[66 rows x 6 columns]",
      "text/html": "<div>\n<style scoped>\n    .dataframe tbody tr th:only-of-type {\n        vertical-align: middle;\n    }\n\n    .dataframe tbody tr th {\n        vertical-align: top;\n    }\n\n    .dataframe thead th {\n        text-align: right;\n    }\n</style>\n<table border=\"1\" class=\"dataframe\">\n  <thead>\n    <tr style=\"text-align: right;\">\n      <th></th>\n      <th>n_mean</th>\n      <th>n_std</th>\n      <th>n_mean_ICU</th>\n      <th>n_std_ICU</th>\n      <th>n_mean_ICU_SUS</th>\n      <th>n_std_ICU_SUS</th>\n    </tr>\n    <tr>\n      <th>date</th>\n      <th></th>\n      <th></th>\n      <th></th>\n      <th></th>\n      <th></th>\n      <th></th>\n    </tr>\n  </thead>\n  <tbody>\n    <tr>\n      <th>2020-04-06</th>\n      <td>1.0</td>\n      <td>0.968076</td>\n      <td>0.00</td>\n      <td>0.968076</td>\n      <td>0.00</td>\n      <td>0.968076</td>\n    </tr>\n    <tr>\n      <th>2020-04-07</th>\n      <td>1.0</td>\n      <td>0.965150</td>\n      <td>0.00</td>\n      <td>0.965150</td>\n      <td>0.00</td>\n      <td>0.965150</td>\n    </tr>\n    <tr>\n      <th>2020-04-08</th>\n      <td>1.0</td>\n      <td>0.963684</td>\n      <td>0.00</td>\n      <td>0.963684</td>\n      <td>0.00</td>\n      <td>0.963684</td>\n    </tr>\n    <tr>\n      <th>2020-04-09</th>\n      <td>2.0</td>\n      <td>1.368255</td>\n      <td>0.00</td>\n      <td>1.368255</td>\n      <td>0.00</td>\n      <td>1.368255</td>\n    </tr>\n    <tr>\n      <th>2020-04-10</th>\n      <td>4.0</td>\n      <td>1.922225</td>\n      <td>0.00</td>\n      <td>1.922225</td>\n      <td>0.00</td>\n      <td>1.922225</td>\n    </tr>\n    <tr>\n      <th>...</th>\n      <td>...</td>\n      <td>...</td>\n      <td>...</td>\n      <td>...</td>\n      <td>...</td>\n      <td>...</td>\n    </tr>\n    <tr>\n      <th>2020-06-06</th>\n      <td>224.0</td>\n      <td>14.812778</td>\n      <td>9.35</td>\n      <td>17.976001</td>\n      <td>6.02</td>\n      <td>18.029315</td>\n    </tr>\n    <tr>\n      <th>2020-06-07</th>\n      <td>228.0</td>\n      <td>15.176863</td>\n      <td>9.02</td>\n      <td>18.321058</td>\n      <td>5.52</td>\n      <td>18.374732</td>\n    </tr>\n    <tr>\n      <th>2020-06-08</th>\n      <td>226.0</td>\n      <td>14.371928</td>\n      <td>8.27</td>\n      <td>17.712190</td>\n      <td>4.89</td>\n      <td>17.765685</td>\n    </tr>\n    <tr>\n      <th>2020-06-09</th>\n      <td>236.0</td>\n      <td>14.963288</td>\n      <td>8.85</td>\n      <td>18.385468</td>\n      <td>5.30</td>\n      <td>18.441677</td>\n    </tr>\n    <tr>\n      <th>2020-06-10</th>\n      <td>239.0</td>\n      <td>14.490617</td>\n      <td>9.23</td>\n      <td>18.074181</td>\n      <td>5.45</td>\n      <td>18.140108</td>\n    </tr>\n  </tbody>\n</table>\n<p>66 rows × 6 columns</p>\n</div>"
     },
     "metadata": {},
     "execution_count": 20
    }
   ],
   "source": [
    "df1_ICU"
   ]
  },
  {
   "cell_type": "markdown",
   "metadata": {},
   "source": [
    "## Private ICU beds"
   ]
  },
  {
   "cell_type": "code",
   "execution_count": 21,
   "metadata": {},
   "outputs": [],
   "source": [
    "df1_ICU['n_mean_ICU_PRIVATE'] = df1_ICU['n_mean_ICU'] - df1_ICU['n_mean_ICU_SUS'] \n",
    "df1_ICU['n_std_ICU_PRIVATE'] = np.sqrt(  df1_ICU['n_std_ICU']**2 + df1_ICU['n_std_ICU_SUS']  )"
   ]
  },
  {
   "cell_type": "markdown",
   "metadata": {},
   "source": [
    "## Saving the results. "
   ]
  },
  {
   "cell_type": "code",
   "execution_count": 22,
   "metadata": {},
   "outputs": [],
   "source": [
    "file1 = 'results/dfs/df_ICU_' + state_or_city + '_' + name_file + '_fit_until_' + fit_until + '.pkl'\n",
    "df1_ICU.to_pickle(file1) "
   ]
  },
  {
   "cell_type": "code",
   "execution_count": null,
   "metadata": {},
   "outputs": [],
   "source": []
  }
 ],
 "metadata": {
  "kernelspec": {
   "display_name": "Python 3",
   "language": "python",
   "name": "python3"
  },
  "language_info": {
   "codemirror_mode": {
    "name": "ipython",
    "version": 3
   },
   "file_extension": ".py",
   "mimetype": "text/x-python",
   "name": "python",
   "nbconvert_exporter": "python",
   "pygments_lexer": "ipython3",
   "version": "3.7.3-final"
  }
 },
 "nbformat": 4,
 "nbformat_minor": 2
}